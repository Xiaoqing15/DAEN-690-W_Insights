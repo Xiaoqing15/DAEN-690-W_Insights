{
 "cells": [
  {
   "cell_type": "code",
   "execution_count": 1,
   "id": "52dfd013",
   "metadata": {},
   "outputs": [],
   "source": [
    "import numpy as np\n",
    "import pandas as pd\n",
    "import math\n",
    "import random\n",
    "from itertools import combinations"
   ]
  },
  {
   "cell_type": "code",
   "execution_count": 2,
   "id": "bc2e8e95",
   "metadata": {},
   "outputs": [],
   "source": [
    "distance_matrix = pd.read_csv('/Users/amber/Documents/DAEN-690/dataset/data_dnn/distance_stations.csv', encoding = \"ISO-8859-1\",header=0, index_col=False)\n",
    "a = distance_matrix.drop('Station', axis=1)\n",
    "distances = a.values"
   ]
  },
  {
   "cell_type": "code",
   "execution_count": 3,
   "id": "dddcc03e",
   "metadata": {},
   "outputs": [],
   "source": [
    "stations = [401, 402, 404, 405, 408, 409, 410, 411, 412, 413, 414, 415, \n",
    "            416, 417, 418, 419, 420, 421, 422, 423, 424, 425, 426, 427, \n",
    "            428, 429, 430, 431, 432, 434, 435, 436, 437, 438, 439, 440,\n",
    "            441, 442, 444]\n",
    "n_stations = 39\n",
    "n_cars = 20"
   ]
  },
  {
   "cell_type": "code",
   "execution_count": 4,
   "id": "ff440cdb",
   "metadata": {},
   "outputs": [
    {
     "data": {
      "text/plain": [
       "'def greedy_search(distances, n_cars, n_stations):\\n    allocation = []\\n    remaining_cars = list(range(n_cars))\\n    remaining_stations = list(range(n_stations))\\n\\n    for _ in range(n_cars):\\n        min_distance = float(\\'inf\\')\\n        best_car = None\\n        best_station = None\\n\\n        for car in remaining_cars:\\n            for station in remaining_stations:\\n                if distances[car][station] < min_distance and distances[car][station] != 0:\\n                    min_distance = distances[car][station]\\n                    best_car = car\\n                    best_station = station\\n\\n        allocation.append((best_car, best_station))\\n        remaining_cars.remove(best_car)\\n        remaining_stations.remove(best_station)\\n\\n    return allocation\\n\\nbest_allocation = greedy_search(distances, n_cars, n_stations)\\nprint(\"Best Allocation:\")\\nfor allocation in best_allocation:\\n    #print(f\"BLS A{stations[allocation[0]]} to Station {stations[allocation[1]]} with distance {distances[allocation[0]][allocation[1]]}\")'"
      ]
     },
     "execution_count": 4,
     "metadata": {},
     "output_type": "execute_result"
    }
   ],
   "source": [
    "#use greedy search to find out shortest distance between stations\n",
    "'''def greedy_search(distances, n_cars, n_stations):\n",
    "    allocation = []\n",
    "    remaining_cars = list(range(n_cars))\n",
    "    remaining_stations = list(range(n_stations))\n",
    "\n",
    "    for _ in range(n_cars):\n",
    "        min_distance = float('inf')\n",
    "        best_car = None\n",
    "        best_station = None\n",
    "\n",
    "        for car in remaining_cars:\n",
    "            for station in remaining_stations:\n",
    "                if distances[car][station] < min_distance and distances[car][station] != 0:\n",
    "                    min_distance = distances[car][station]\n",
    "                    best_car = car\n",
    "                    best_station = station\n",
    "\n",
    "        allocation.append((best_car, best_station))\n",
    "        remaining_cars.remove(best_car)\n",
    "        remaining_stations.remove(best_station)\n",
    "\n",
    "    return allocation\n",
    "\n",
    "best_allocation = greedy_search(distances, n_cars, n_stations)\n",
    "print(\"Best Allocation:\")\n",
    "for allocation in best_allocation:\n",
    "    #print(f\"BLS A{stations[allocation[0]]} to Station {stations[allocation[1]]} with distance {distances[allocation[0]][allocation[1]]}\")'''\n"
   ]
  },
  {
   "cell_type": "code",
   "execution_count": 11,
   "id": "278a546a",
   "metadata": {},
   "outputs": [
    {
     "name": "stdout",
     "output_type": "stream",
     "text": [
      "<class 'list'>\n"
     ]
    }
   ],
   "source": [
    "station_with_bls = ['S410', 'S408', 'S415', 'S431', 'S421', 'S427', 'S409', 'S440', 'S414', 'S419', 'S426'] #11\n",
    "station_without_bls = ['S405', 'S434', 'S402', 'S437'] #4\n",
    "station_to_consider = ['S444', 'S429', 'S436', 'S425', 'S422', 'S428', 'S401', 'S416', 'S413', 'S412', 'S435',  #24\n",
    "                    'S441', 'S417', 'S424', 'S404', 'S438', 'S411', 'S423', 'S439', 'S432', 'S418', 'S430', \n",
    "                    'S442', 'S420']\n",
    "print(type(station_with_bls))\n",
    "#random.sample(station_to_consider, 9)"
   ]
  },
  {
   "cell_type": "code",
   "execution_count": 12,
   "id": "ac5c34a9",
   "metadata": {},
   "outputs": [],
   "source": [
    "distance_matrix = pd.read_csv('/Users/amber/Documents/DAEN-690/dataset/data_dnn/distance_stations.csv', encoding = \"ISO-8859-1\",header=0, index_col=0)\n",
    "#distance_matrix.head()\n",
    "#distance_matrix.loc['S401']['S410']"
   ]
  },
  {
   "cell_type": "code",
   "execution_count": 13,
   "id": "736b96e9",
   "metadata": {},
   "outputs": [
    {
     "name": "stdout",
     "output_type": "stream",
     "text": [
      "1976.1649499399998\n",
      "['S405', 'S434', 'S402', 'S437', 'S429', 'S436', 'S428', 'S401', 'S413', 'S412', 'S435', 'S417', 'S424', 'S404', 'S411', 'S423', 'S418', 'S442', 'S420']\n"
     ]
    }
   ],
   "source": [
    "#use greedy search to find out stations without bls\n",
    "tries = 0\n",
    "sum_distance_list = []\n",
    "without_bls_list = []\n",
    "while tries < 5000:\n",
    "    random_stations = random.sample(station_to_consider, 9)\n",
    "    tries += 1\n",
    "    with_bls = station_with_bls + random_stations\n",
    "    temp_list = [item for item in station_to_consider if item not in random_stations]\n",
    "    without_bls = station_without_bls + temp_list\n",
    "    min_distance_list = []\n",
    "    for ele_without_bls in without_bls:\n",
    "        distance_20bls_list = []\n",
    "        for ele_with_bls in with_bls:\n",
    "            distance_20bls = distance_matrix.loc[ele_without_bls][ele_with_bls]\n",
    "            distance_20bls_list.append(distance_20bls)\n",
    "        min_disance = min(distance_20bls_list)  \n",
    "        min_distance_list.append(min_disance)\n",
    "        sum_distance = sum(min_distance_list)\n",
    "    sum_distance_list.append(sum_distance)\n",
    "    without_bls_list.append(without_bls)\n",
    "smallest_distance = min(sum_distance_list)\n",
    "smallest_index = sum_distance_list.index(smallest_distance)\n",
    "smallest_distance_combination = without_bls_list[smallest_index]\n",
    "print(smallest_distance)\n",
    "print(smallest_distance_combination)"
   ]
  },
  {
   "cell_type": "code",
   "execution_count": null,
   "id": "abb8a872",
   "metadata": {},
   "outputs": [],
   "source": []
  },
  {
   "cell_type": "code",
   "execution_count": null,
   "id": "16abe9c2",
   "metadata": {},
   "outputs": [],
   "source": [
    "'''min_distance_list = []\n",
    "without_bls_list = []\n",
    "for ele_without_bls in without_bls:\n",
    "    distance_20bls_list = []\n",
    "    for ele_with_bls in with_bls:\n",
    "        distance_20bls = distance_matrix.loc[ele_without_bls][ele_with_bls]\n",
    "        distance_20bls_list.append(distance_20bls)\n",
    "    #print(distance_20bls_list)\n",
    "    min_disance = min(distance_20bls_list)  \n",
    "    min_distance_list.append(min_disance)\n",
    "    sum_distance = sum(min_distance_list)\n",
    "    without_bls_list.append(ele_without_bls)\n",
    "print(sum_distance)\n",
    "print(without_bls_list)'''"
   ]
  },
  {
   "cell_type": "code",
   "execution_count": null,
   "id": "7b10ce03",
   "metadata": {},
   "outputs": [],
   "source": [
    "'''iteration = 0\n",
    "for combination in combinations(station_to_consider, 9): \n",
    "    combination_list = list(combination)\n",
    "    with_bls = station_with_bls + combination_list\n",
    "    \n",
    "    temp_list = [item for item in station_to_consider if item not in combination_list]\n",
    "    without_bls = station_without_bls + temp_list\n",
    "    #print(combination_list)\n",
    "    print(with_bls)\n",
    "    print(without_bls)'''  "
   ]
  },
  {
   "cell_type": "code",
   "execution_count": null,
   "id": "fe80fa7f",
   "metadata": {},
   "outputs": [],
   "source": []
  },
  {
   "cell_type": "code",
   "execution_count": null,
   "id": "bd139819",
   "metadata": {},
   "outputs": [],
   "source": []
  }
 ],
 "metadata": {
  "kernelspec": {
   "display_name": "Python 3 (ipykernel)",
   "language": "python",
   "name": "python3"
  },
  "language_info": {
   "codemirror_mode": {
    "name": "ipython",
    "version": 3
   },
   "file_extension": ".py",
   "mimetype": "text/x-python",
   "name": "python",
   "nbconvert_exporter": "python",
   "pygments_lexer": "ipython3",
   "version": "3.9.12"
  }
 },
 "nbformat": 4,
 "nbformat_minor": 5
}
