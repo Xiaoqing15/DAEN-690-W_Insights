{
 "cells": [
  {
   "cell_type": "code",
   "execution_count": 1,
   "metadata": {},
   "outputs": [],
   "source": [
    "reset -f"
   ]
  },
  {
   "cell_type": "code",
   "execution_count": 81,
   "metadata": {},
   "outputs": [],
   "source": [
    "import keras\n",
    "import tensorflow as tf\n",
    "import numpy as np\n",
    "import pandas as pd\n",
    "import matplotlib.pyplot as plt\n",
    "from sklearn.model_selection import train_test_split\n",
    "from sklearn.preprocessing import StandardScaler\n",
    "from sklearn.metrics import mean_squared_error\n",
    "from keras import regularizers\n",
    "import os"
   ]
  },
  {
   "cell_type": "code",
   "execution_count": 82,
   "metadata": {},
   "outputs": [],
   "source": [
    "from keras.models import Sequential\n",
    "from keras.layers import Dense\n",
    "from keras.layers import Dropout"
   ]
  },
  {
   "cell_type": "code",
   "execution_count": 83,
   "metadata": {},
   "outputs": [
    {
     "name": "stdout",
     "output_type": "stream",
     "text": [
      "/Users/amber/Documents/DAEN-690/dataset\n"
     ]
    }
   ],
   "source": [
    "print(format(os.getcwd()))"
   ]
  },
  {
   "cell_type": "code",
   "execution_count": 84,
   "metadata": {},
   "outputs": [
    {
     "name": "stdout",
     "output_type": "stream",
     "text": [
      "<class 'pandas.core.frame.DataFrame'>\n",
      "Index(['InitialIncidentType', 'DispatchedIncidentType',\n",
      "       'DispatchedEMSCategory', 'ArrivedIncidentType', 'FinalIncidentType',\n",
      "       'FinalEMSCategory', 'GeoFirstDue', 'time', 'full_call_processing',\n",
      "       'incident_duration', 'turnout', 'travel_time', 'time_on_call',\n",
      "       'time_onscene', 'bls_station', 'station_coord_x', 'station_coord_y',\n",
      "       'incident_amount', 'unit_type', 'unit_coord_x', 'unit_coord_y',\n",
      "       'response_time'],\n",
      "      dtype='object')\n"
     ]
    }
   ],
   "source": [
    "path_to_file = '/Users/amber/Documents/DAEN-690/dataset/testdata.csv'\n",
    "df1 = pd.read_csv(path_to_file, encoding = \"ISO-8859-1\",header=0, index_col=False)\n",
    "print(type(df1))\n",
    "print(df1.columns)"
   ]
  },
  {
   "cell_type": "code",
   "execution_count": 85,
   "metadata": {},
   "outputs": [],
   "source": [
    "deformation = df1.iloc[:,-1]/30"
   ]
  },
  {
   "cell_type": "code",
   "execution_count": 86,
   "metadata": {},
   "outputs": [
    {
     "name": "stdout",
     "output_type": "stream",
     "text": [
      "(13168, 22)\n"
     ]
    },
    {
     "data": {
      "text/plain": [
       "0        36.300000\n",
       "1        11.333333\n",
       "2        15.700000\n",
       "3        28.600000\n",
       "4        18.533333\n",
       "           ...    \n",
       "13163     5.933333\n",
       "13164     6.966667\n",
       "13165     4.633333\n",
       "13166    13.500000\n",
       "13167    12.233333\n",
       "Name: response_time, Length: 13168, dtype: float64"
      ]
     },
     "execution_count": 86,
     "metadata": {},
     "output_type": "execute_result"
    }
   ],
   "source": [
    "print(df1.shape)\n",
    "deformation"
   ]
  },
  {
   "cell_type": "code",
   "execution_count": 87,
   "metadata": {},
   "outputs": [],
   "source": [
    "x_data = df1.iloc[:,df1.columns != 'response_time']\n",
    "x_data = x_data.iloc[:,x_data.columns != 'incident_amount']\n",
    "x_data = x_data.iloc[:,x_data.columns != 'turnout']\n",
    "x_data = x_data.iloc[:,x_data.columns != 'GeoFirstDue']\n",
    "x_data = x_data.iloc[:,x_data.columns != 'incident_duration']\n",
    "x_data = x_data.iloc[:,x_data.columns != 'time_on_call']"
   ]
  },
  {
   "cell_type": "code",
   "execution_count": 88,
   "metadata": {},
   "outputs": [
    {
     "name": "stdout",
     "output_type": "stream",
     "text": [
      "(13168, 16)\n"
     ]
    }
   ],
   "source": [
    "print(x_data.shape)"
   ]
  },
  {
   "cell_type": "code",
   "execution_count": 89,
   "metadata": {},
   "outputs": [],
   "source": [
    "cols = []\n",
    "count = 1\n",
    "for column in x_data.columns:\n",
    "    cols.append(f'Number_{count}')\n",
    "    count = count + 1\n",
    "    continue\n",
    "\n",
    "x_data.columns = cols"
   ]
  },
  {
   "cell_type": "code",
   "execution_count": 90,
   "metadata": {},
   "outputs": [
    {
     "name": "stdout",
     "output_type": "stream",
     "text": [
      "<class 'list'>\n"
     ]
    }
   ],
   "source": [
    "#Creating Feature Columns\n",
    "feat_cols=[]\n",
    "for cols in x_data.columns:\n",
    "    column= tf.feature_column.numeric_column(cols)\n",
    "    feat_cols.append(column)\n",
    "    \n",
    "#print(feat_cols)\n",
    "print(type(feat_cols))"
   ]
  },
  {
   "cell_type": "code",
   "execution_count": 91,
   "metadata": {},
   "outputs": [
    {
     "name": "stderr",
     "output_type": "stream",
     "text": [
      "/Users/amber/opt/anaconda3/lib/python3.9/site-packages/sklearn/utils/validation.py:767: FutureWarning: is_sparse is deprecated and will be removed in a future version. Check `isinstance(dtype, pd.SparseDtype)` instead.\n",
      "  if not hasattr(array, \"sparse\") and array.dtypes.apply(is_sparse).any():\n",
      "/Users/amber/opt/anaconda3/lib/python3.9/site-packages/sklearn/utils/validation.py:605: FutureWarning: is_sparse is deprecated and will be removed in a future version. Check `isinstance(dtype, pd.SparseDtype)` instead.\n",
      "  if is_sparse(pd_dtype):\n",
      "/Users/amber/opt/anaconda3/lib/python3.9/site-packages/sklearn/utils/validation.py:614: FutureWarning: is_sparse is deprecated and will be removed in a future version. Check `isinstance(dtype, pd.SparseDtype)` instead.\n",
      "  if is_sparse(pd_dtype) or not is_extension_array_dtype(pd_dtype):\n"
     ]
    },
    {
     "data": {
      "text/html": [
       "<style>#sk-container-id-5 {color: black;background-color: white;}#sk-container-id-5 pre{padding: 0;}#sk-container-id-5 div.sk-toggleable {background-color: white;}#sk-container-id-5 label.sk-toggleable__label {cursor: pointer;display: block;width: 100%;margin-bottom: 0;padding: 0.3em;box-sizing: border-box;text-align: center;}#sk-container-id-5 label.sk-toggleable__label-arrow:before {content: \"▸\";float: left;margin-right: 0.25em;color: #696969;}#sk-container-id-5 label.sk-toggleable__label-arrow:hover:before {color: black;}#sk-container-id-5 div.sk-estimator:hover label.sk-toggleable__label-arrow:before {color: black;}#sk-container-id-5 div.sk-toggleable__content {max-height: 0;max-width: 0;overflow: hidden;text-align: left;background-color: #f0f8ff;}#sk-container-id-5 div.sk-toggleable__content pre {margin: 0.2em;color: black;border-radius: 0.25em;background-color: #f0f8ff;}#sk-container-id-5 input.sk-toggleable__control:checked~div.sk-toggleable__content {max-height: 200px;max-width: 100%;overflow: auto;}#sk-container-id-5 input.sk-toggleable__control:checked~label.sk-toggleable__label-arrow:before {content: \"▾\";}#sk-container-id-5 div.sk-estimator input.sk-toggleable__control:checked~label.sk-toggleable__label {background-color: #d4ebff;}#sk-container-id-5 div.sk-label input.sk-toggleable__control:checked~label.sk-toggleable__label {background-color: #d4ebff;}#sk-container-id-5 input.sk-hidden--visually {border: 0;clip: rect(1px 1px 1px 1px);clip: rect(1px, 1px, 1px, 1px);height: 1px;margin: -1px;overflow: hidden;padding: 0;position: absolute;width: 1px;}#sk-container-id-5 div.sk-estimator {font-family: monospace;background-color: #f0f8ff;border: 1px dotted black;border-radius: 0.25em;box-sizing: border-box;margin-bottom: 0.5em;}#sk-container-id-5 div.sk-estimator:hover {background-color: #d4ebff;}#sk-container-id-5 div.sk-parallel-item::after {content: \"\";width: 100%;border-bottom: 1px solid gray;flex-grow: 1;}#sk-container-id-5 div.sk-label:hover label.sk-toggleable__label {background-color: #d4ebff;}#sk-container-id-5 div.sk-serial::before {content: \"\";position: absolute;border-left: 1px solid gray;box-sizing: border-box;top: 0;bottom: 0;left: 50%;z-index: 0;}#sk-container-id-5 div.sk-serial {display: flex;flex-direction: column;align-items: center;background-color: white;padding-right: 0.2em;padding-left: 0.2em;position: relative;}#sk-container-id-5 div.sk-item {position: relative;z-index: 1;}#sk-container-id-5 div.sk-parallel {display: flex;align-items: stretch;justify-content: center;background-color: white;position: relative;}#sk-container-id-5 div.sk-item::before, #sk-container-id-5 div.sk-parallel-item::before {content: \"\";position: absolute;border-left: 1px solid gray;box-sizing: border-box;top: 0;bottom: 0;left: 50%;z-index: -1;}#sk-container-id-5 div.sk-parallel-item {display: flex;flex-direction: column;z-index: 1;position: relative;background-color: white;}#sk-container-id-5 div.sk-parallel-item:first-child::after {align-self: flex-end;width: 50%;}#sk-container-id-5 div.sk-parallel-item:last-child::after {align-self: flex-start;width: 50%;}#sk-container-id-5 div.sk-parallel-item:only-child::after {width: 0;}#sk-container-id-5 div.sk-dashed-wrapped {border: 1px dashed gray;margin: 0 0.4em 0.5em 0.4em;box-sizing: border-box;padding-bottom: 0.4em;background-color: white;}#sk-container-id-5 div.sk-label label {font-family: monospace;font-weight: bold;display: inline-block;line-height: 1.2em;}#sk-container-id-5 div.sk-label-container {text-align: center;}#sk-container-id-5 div.sk-container {/* jupyter's `normalize.less` sets `[hidden] { display: none; }` but bootstrap.min.css set `[hidden] { display: none !important; }` so we also need the `!important` here to be able to override the default hidden behavior on the sphinx rendered scikit-learn.org. See: https://github.com/scikit-learn/scikit-learn/issues/21755 */display: inline-block !important;position: relative;}#sk-container-id-5 div.sk-text-repr-fallback {display: none;}</style><div id=\"sk-container-id-5\" class=\"sk-top-container\"><div class=\"sk-text-repr-fallback\"><pre>StandardScaler()</pre><b>In a Jupyter environment, please rerun this cell to show the HTML representation or trust the notebook. <br />On GitHub, the HTML representation is unable to render, please try loading this page with nbviewer.org.</b></div><div class=\"sk-container\" hidden><div class=\"sk-item\"><div class=\"sk-estimator sk-toggleable\"><input class=\"sk-toggleable__control sk-hidden--visually\" id=\"sk-estimator-id-5\" type=\"checkbox\" checked><label for=\"sk-estimator-id-5\" class=\"sk-toggleable__label sk-toggleable__label-arrow\">StandardScaler</label><div class=\"sk-toggleable__content\"><pre>StandardScaler()</pre></div></div></div></div></div>"
      ],
      "text/plain": [
       "StandardScaler()"
      ]
     },
     "execution_count": 91,
     "metadata": {},
     "output_type": "execute_result"
    }
   ],
   "source": [
    "from sklearn.preprocessing import MinMaxScaler\n",
    "scaler_model = StandardScaler()\n",
    "scaler_model.fit(x_data)"
   ]
  },
  {
   "cell_type": "code",
   "execution_count": 92,
   "metadata": {},
   "outputs": [],
   "source": [
    "#np.savetxt('hxp_mean.txt', scaler_model.mean_, fmt='%2.5f')\n",
    "#np.savetxt('hxp_var.txt', scaler_model.var_, fmt='%2.5f')"
   ]
  },
  {
   "cell_type": "code",
   "execution_count": 93,
   "metadata": {},
   "outputs": [],
   "source": [
    "X_train, X_eval,y_train,y_eval=train_test_split(x_data,deformation,test_size=0.1,random_state=1)"
   ]
  },
  {
   "cell_type": "code",
   "execution_count": 94,
   "metadata": {},
   "outputs": [
    {
     "name": "stderr",
     "output_type": "stream",
     "text": [
      "/Users/amber/opt/anaconda3/lib/python3.9/site-packages/sklearn/utils/validation.py:767: FutureWarning: is_sparse is deprecated and will be removed in a future version. Check `isinstance(dtype, pd.SparseDtype)` instead.\n",
      "  if not hasattr(array, \"sparse\") and array.dtypes.apply(is_sparse).any():\n",
      "/Users/amber/opt/anaconda3/lib/python3.9/site-packages/sklearn/utils/validation.py:605: FutureWarning: is_sparse is deprecated and will be removed in a future version. Check `isinstance(dtype, pd.SparseDtype)` instead.\n",
      "  if is_sparse(pd_dtype):\n",
      "/Users/amber/opt/anaconda3/lib/python3.9/site-packages/sklearn/utils/validation.py:614: FutureWarning: is_sparse is deprecated and will be removed in a future version. Check `isinstance(dtype, pd.SparseDtype)` instead.\n",
      "  if is_sparse(pd_dtype) or not is_extension_array_dtype(pd_dtype):\n"
     ]
    }
   ],
   "source": [
    "X_train=pd.DataFrame(scaler_model.transform(X_train),columns=X_train.columns,index=X_train.index)"
   ]
  },
  {
   "cell_type": "code",
   "execution_count": 95,
   "metadata": {},
   "outputs": [
    {
     "name": "stderr",
     "output_type": "stream",
     "text": [
      "/Users/amber/opt/anaconda3/lib/python3.9/site-packages/sklearn/utils/validation.py:767: FutureWarning: is_sparse is deprecated and will be removed in a future version. Check `isinstance(dtype, pd.SparseDtype)` instead.\n",
      "  if not hasattr(array, \"sparse\") and array.dtypes.apply(is_sparse).any():\n",
      "/Users/amber/opt/anaconda3/lib/python3.9/site-packages/sklearn/utils/validation.py:605: FutureWarning: is_sparse is deprecated and will be removed in a future version. Check `isinstance(dtype, pd.SparseDtype)` instead.\n",
      "  if is_sparse(pd_dtype):\n",
      "/Users/amber/opt/anaconda3/lib/python3.9/site-packages/sklearn/utils/validation.py:614: FutureWarning: is_sparse is deprecated and will be removed in a future version. Check `isinstance(dtype, pd.SparseDtype)` instead.\n",
      "  if is_sparse(pd_dtype) or not is_extension_array_dtype(pd_dtype):\n"
     ]
    }
   ],
   "source": [
    "X_eval=pd.DataFrame(scaler_model.transform(X_eval),columns=X_eval.columns,index=X_eval.index)\n",
    "#print(X_eval)"
   ]
  },
  {
   "cell_type": "code",
   "execution_count": 96,
   "metadata": {},
   "outputs": [],
   "source": [
    "#print((0.74558053-0.5002686206)/np.sqrt(0.0418660216))\n",
    "#print(X_eval)"
   ]
  },
  {
   "cell_type": "code",
   "execution_count": 97,
   "metadata": {},
   "outputs": [],
   "source": [
    "# Neural network\n",
    "model = Sequential()\n",
    "model.add(Dense(32, input_dim = 16, kernel_initializer = 'he_normal', activation='relu'))\n",
    "#model.add(Dropout(0.1))\n",
    "#model.add(Dense(16, activation='relu')) #kernel_regularizer=regularizers.L2(0.01)\n",
    "model.add(Dense(16, activation='linear'))\n",
    "model.add(Dense(1,activation='relu'))"
   ]
  },
  {
   "cell_type": "code",
   "execution_count": 99,
   "metadata": {},
   "outputs": [],
   "source": [
    "model.compile(loss='mean_squared_error', optimizer='adam', metrics=['MeanAbsolutePercentageError'])"
   ]
  },
  {
   "cell_type": "code",
   "execution_count": 100,
   "metadata": {
    "scrolled": true
   },
   "outputs": [
    {
     "name": "stdout",
     "output_type": "stream",
     "text": [
      "Epoch 1/300\n",
      "238/238 [==============================] - 1s 1ms/step - loss: 63.6655 - mean_absolute_percentage_error: 44.1953\n",
      "Epoch 2/300\n",
      "238/238 [==============================] - 0s 1ms/step - loss: 27.4488 - mean_absolute_percentage_error: 28.3102\n",
      "Epoch 3/300\n",
      "238/238 [==============================] - 0s 1ms/step - loss: 24.7646 - mean_absolute_percentage_error: 26.6693\n",
      "Epoch 4/300\n",
      "238/238 [==============================] - 0s 1ms/step - loss: 22.8026 - mean_absolute_percentage_error: 25.4296\n",
      "Epoch 5/300\n",
      "238/238 [==============================] - 1s 2ms/step - loss: 21.3711 - mean_absolute_percentage_error: 24.3142\n",
      "Epoch 6/300\n",
      "238/238 [==============================] - 1s 2ms/step - loss: 20.3315 - mean_absolute_percentage_error: 23.3475\n",
      "Epoch 7/300\n",
      "238/238 [==============================] - 0s 2ms/step - loss: 19.8409 - mean_absolute_percentage_error: 22.8833\n",
      "Epoch 8/300\n",
      "238/238 [==============================] - 0s 1ms/step - loss: 19.4973 - mean_absolute_percentage_error: 22.4688\n",
      "Epoch 9/300\n",
      "238/238 [==============================] - 0s 1ms/step - loss: 19.3066 - mean_absolute_percentage_error: 22.2191\n",
      "Epoch 10/300\n",
      "238/238 [==============================] - 0s 1ms/step - loss: 19.1385 - mean_absolute_percentage_error: 22.0679\n",
      "Epoch 11/300\n",
      "238/238 [==============================] - 0s 1ms/step - loss: 19.0536 - mean_absolute_percentage_error: 21.9270\n",
      "Epoch 12/300\n",
      "238/238 [==============================] - 0s 1ms/step - loss: 18.9745 - mean_absolute_percentage_error: 21.9369\n",
      "Epoch 13/300\n",
      "238/238 [==============================] - 0s 1ms/step - loss: 18.9965 - mean_absolute_percentage_error: 21.8564\n",
      "Epoch 14/300\n",
      "238/238 [==============================] - 0s 1ms/step - loss: 18.8336 - mean_absolute_percentage_error: 21.7373\n",
      "Epoch 15/300\n",
      "238/238 [==============================] - 0s 1ms/step - loss: 18.8299 - mean_absolute_percentage_error: 21.6416\n",
      "Epoch 16/300\n",
      "238/238 [==============================] - 0s 1ms/step - loss: 18.7200 - mean_absolute_percentage_error: 21.6533\n",
      "Epoch 17/300\n",
      "238/238 [==============================] - 0s 1ms/step - loss: 18.7808 - mean_absolute_percentage_error: 21.7159\n",
      "Epoch 18/300\n",
      "238/238 [==============================] - 0s 1ms/step - loss: 18.6604 - mean_absolute_percentage_error: 21.6778\n",
      "Epoch 19/300\n",
      "238/238 [==============================] - 0s 1ms/step - loss: 18.7833 - mean_absolute_percentage_error: 21.7135\n",
      "Epoch 20/300\n",
      "238/238 [==============================] - 0s 1ms/step - loss: 18.6427 - mean_absolute_percentage_error: 21.6157\n",
      "Epoch 21/300\n",
      "238/238 [==============================] - 0s 2ms/step - loss: 18.7557 - mean_absolute_percentage_error: 21.7100\n",
      "Epoch 22/300\n",
      "238/238 [==============================] - 0s 2ms/step - loss: 18.5913 - mean_absolute_percentage_error: 21.4843\n",
      "Epoch 23/300\n",
      "238/238 [==============================] - 0s 1ms/step - loss: 18.6184 - mean_absolute_percentage_error: 21.5809\n",
      "Epoch 24/300\n",
      "238/238 [==============================] - 0s 1ms/step - loss: 18.5494 - mean_absolute_percentage_error: 21.4992\n",
      "Epoch 25/300\n",
      "238/238 [==============================] - 0s 1ms/step - loss: 18.5344 - mean_absolute_percentage_error: 21.4326\n",
      "Epoch 26/300\n",
      "238/238 [==============================] - 0s 1ms/step - loss: 18.5960 - mean_absolute_percentage_error: 21.5178\n",
      "Epoch 27/300\n",
      "238/238 [==============================] - 0s 2ms/step - loss: 18.6169 - mean_absolute_percentage_error: 21.6835\n",
      "Epoch 28/300\n",
      "238/238 [==============================] - 0s 2ms/step - loss: 18.5333 - mean_absolute_percentage_error: 21.5517\n",
      "Epoch 29/300\n",
      "238/238 [==============================] - 0s 1ms/step - loss: 18.4557 - mean_absolute_percentage_error: 21.4425\n",
      "Epoch 30/300\n",
      "238/238 [==============================] - 0s 2ms/step - loss: 18.5302 - mean_absolute_percentage_error: 21.5191\n",
      "Epoch 31/300\n",
      "238/238 [==============================] - 0s 1ms/step - loss: 18.4784 - mean_absolute_percentage_error: 21.4816\n",
      "Epoch 32/300\n",
      "238/238 [==============================] - 0s 1ms/step - loss: 18.4694 - mean_absolute_percentage_error: 21.5094\n",
      "Epoch 33/300\n",
      "238/238 [==============================] - 0s 1ms/step - loss: 18.5329 - mean_absolute_percentage_error: 21.4929\n",
      "Epoch 34/300\n",
      "238/238 [==============================] - 0s 1ms/step - loss: 18.3949 - mean_absolute_percentage_error: 21.4411\n",
      "Epoch 35/300\n",
      "238/238 [==============================] - 0s 2ms/step - loss: 18.3931 - mean_absolute_percentage_error: 21.4442\n",
      "Epoch 36/300\n",
      "238/238 [==============================] - 0s 2ms/step - loss: 18.4565 - mean_absolute_percentage_error: 21.4476\n",
      "Epoch 37/300\n",
      "238/238 [==============================] - 0s 2ms/step - loss: 18.3532 - mean_absolute_percentage_error: 21.4108\n",
      "Epoch 38/300\n",
      "238/238 [==============================] - 0s 2ms/step - loss: 18.3658 - mean_absolute_percentage_error: 21.3791\n",
      "Epoch 39/300\n",
      "238/238 [==============================] - 0s 2ms/step - loss: 18.3443 - mean_absolute_percentage_error: 21.4542\n",
      "Epoch 40/300\n",
      "238/238 [==============================] - 0s 2ms/step - loss: 18.4133 - mean_absolute_percentage_error: 21.4443\n",
      "Epoch 41/300\n",
      "238/238 [==============================] - 0s 1ms/step - loss: 18.3190 - mean_absolute_percentage_error: 21.4229\n",
      "Epoch 42/300\n",
      "238/238 [==============================] - 0s 1ms/step - loss: 18.3245 - mean_absolute_percentage_error: 21.3959\n",
      "Epoch 43/300\n",
      "238/238 [==============================] - 0s 1ms/step - loss: 18.4069 - mean_absolute_percentage_error: 21.4713\n",
      "Epoch 44/300\n",
      "238/238 [==============================] - 0s 1ms/step - loss: 18.3839 - mean_absolute_percentage_error: 21.5291\n",
      "Epoch 45/300\n",
      "238/238 [==============================] - 0s 1ms/step - loss: 18.3050 - mean_absolute_percentage_error: 21.4398\n",
      "Epoch 46/300\n",
      "238/238 [==============================] - 0s 1ms/step - loss: 18.3318 - mean_absolute_percentage_error: 21.3593\n",
      "Epoch 47/300\n",
      "238/238 [==============================] - 0s 1ms/step - loss: 18.2939 - mean_absolute_percentage_error: 21.3822\n",
      "Epoch 48/300\n",
      "238/238 [==============================] - 0s 1ms/step - loss: 18.2422 - mean_absolute_percentage_error: 21.3523\n",
      "Epoch 49/300\n",
      "238/238 [==============================] - 0s 1ms/step - loss: 18.3224 - mean_absolute_percentage_error: 21.3817\n",
      "Epoch 50/300\n",
      "238/238 [==============================] - 0s 1ms/step - loss: 18.2428 - mean_absolute_percentage_error: 21.3105\n",
      "Epoch 51/300\n",
      "238/238 [==============================] - 0s 1ms/step - loss: 18.2975 - mean_absolute_percentage_error: 21.4855\n",
      "Epoch 52/300\n",
      "238/238 [==============================] - 0s 1ms/step - loss: 18.2197 - mean_absolute_percentage_error: 21.3350\n",
      "Epoch 53/300\n",
      "238/238 [==============================] - 0s 1ms/step - loss: 18.2941 - mean_absolute_percentage_error: 21.4133\n",
      "Epoch 54/300\n",
      "238/238 [==============================] - 0s 1ms/step - loss: 18.2979 - mean_absolute_percentage_error: 21.4849\n",
      "Epoch 55/300\n",
      "238/238 [==============================] - 0s 1ms/step - loss: 18.1939 - mean_absolute_percentage_error: 21.4017\n",
      "Epoch 56/300\n",
      "238/238 [==============================] - 0s 1ms/step - loss: 18.1744 - mean_absolute_percentage_error: 21.4559\n",
      "Epoch 57/300\n",
      "238/238 [==============================] - 0s 1ms/step - loss: 18.1854 - mean_absolute_percentage_error: 21.3733\n",
      "Epoch 58/300\n",
      "238/238 [==============================] - 0s 1ms/step - loss: 18.1077 - mean_absolute_percentage_error: 21.3764\n",
      "Epoch 59/300\n",
      "238/238 [==============================] - 0s 1ms/step - loss: 18.1857 - mean_absolute_percentage_error: 21.3979\n",
      "Epoch 60/300\n",
      "238/238 [==============================] - 0s 1ms/step - loss: 18.1791 - mean_absolute_percentage_error: 21.3787\n",
      "Epoch 61/300\n",
      "238/238 [==============================] - 0s 1ms/step - loss: 18.1781 - mean_absolute_percentage_error: 21.3706\n",
      "Epoch 62/300\n",
      "238/238 [==============================] - 0s 1ms/step - loss: 18.1318 - mean_absolute_percentage_error: 21.3747\n",
      "Epoch 63/300\n",
      "238/238 [==============================] - 0s 1ms/step - loss: 18.2037 - mean_absolute_percentage_error: 21.5567\n",
      "Epoch 64/300\n",
      "238/238 [==============================] - 0s 1ms/step - loss: 18.1611 - mean_absolute_percentage_error: 21.3604\n",
      "Epoch 65/300\n",
      "238/238 [==============================] - 0s 1ms/step - loss: 18.1028 - mean_absolute_percentage_error: 21.3261\n",
      "Epoch 66/300\n"
     ]
    },
    {
     "name": "stdout",
     "output_type": "stream",
     "text": [
      "238/238 [==============================] - 0s 1ms/step - loss: 18.0804 - mean_absolute_percentage_error: 21.3056\n",
      "Epoch 67/300\n",
      "238/238 [==============================] - 0s 1ms/step - loss: 18.0853 - mean_absolute_percentage_error: 21.4318\n",
      "Epoch 68/300\n",
      "238/238 [==============================] - 0s 1ms/step - loss: 18.1000 - mean_absolute_percentage_error: 21.3873\n",
      "Epoch 69/300\n",
      "238/238 [==============================] - 0s 1ms/step - loss: 18.0720 - mean_absolute_percentage_error: 21.2326\n",
      "Epoch 70/300\n",
      "238/238 [==============================] - 0s 1ms/step - loss: 18.0817 - mean_absolute_percentage_error: 21.3590\n",
      "Epoch 71/300\n",
      "238/238 [==============================] - 0s 1ms/step - loss: 18.0694 - mean_absolute_percentage_error: 21.3942\n",
      "Epoch 72/300\n",
      "238/238 [==============================] - 0s 1ms/step - loss: 18.0974 - mean_absolute_percentage_error: 21.5332\n",
      "Epoch 73/300\n",
      "238/238 [==============================] - 0s 1ms/step - loss: 18.0180 - mean_absolute_percentage_error: 21.3777\n",
      "Epoch 74/300\n",
      "238/238 [==============================] - 0s 1ms/step - loss: 18.0393 - mean_absolute_percentage_error: 21.3186\n",
      "Epoch 75/300\n",
      "238/238 [==============================] - 0s 1ms/step - loss: 17.9949 - mean_absolute_percentage_error: 21.3241\n",
      "Epoch 76/300\n",
      "238/238 [==============================] - 0s 1ms/step - loss: 18.0005 - mean_absolute_percentage_error: 21.3284\n",
      "Epoch 77/300\n",
      "238/238 [==============================] - 0s 1ms/step - loss: 18.0387 - mean_absolute_percentage_error: 21.2343\n",
      "Epoch 78/300\n",
      "238/238 [==============================] - 0s 1ms/step - loss: 17.9785 - mean_absolute_percentage_error: 21.2776\n",
      "Epoch 79/300\n",
      "238/238 [==============================] - 0s 1ms/step - loss: 18.0410 - mean_absolute_percentage_error: 21.4388\n",
      "Epoch 80/300\n",
      "238/238 [==============================] - 0s 1ms/step - loss: 17.9776 - mean_absolute_percentage_error: 21.2928\n",
      "Epoch 81/300\n",
      "238/238 [==============================] - 0s 1ms/step - loss: 17.9039 - mean_absolute_percentage_error: 21.2918\n",
      "Epoch 82/300\n",
      "238/238 [==============================] - 0s 1ms/step - loss: 17.8809 - mean_absolute_percentage_error: 21.2773\n",
      "Epoch 83/300\n",
      "238/238 [==============================] - 0s 1ms/step - loss: 17.9854 - mean_absolute_percentage_error: 21.3175\n",
      "Epoch 84/300\n",
      "238/238 [==============================] - 0s 1ms/step - loss: 17.9425 - mean_absolute_percentage_error: 21.3156\n",
      "Epoch 85/300\n",
      "238/238 [==============================] - 0s 1ms/step - loss: 17.9381 - mean_absolute_percentage_error: 21.3264\n",
      "Epoch 86/300\n",
      "238/238 [==============================] - 0s 1ms/step - loss: 17.9153 - mean_absolute_percentage_error: 21.3268\n",
      "Epoch 87/300\n",
      "238/238 [==============================] - 0s 1ms/step - loss: 17.8988 - mean_absolute_percentage_error: 21.3295\n",
      "Epoch 88/300\n",
      "238/238 [==============================] - 0s 1ms/step - loss: 17.8897 - mean_absolute_percentage_error: 21.3552\n",
      "Epoch 89/300\n",
      "238/238 [==============================] - 0s 1ms/step - loss: 17.9121 - mean_absolute_percentage_error: 21.2514\n",
      "Epoch 90/300\n",
      "238/238 [==============================] - 0s 1ms/step - loss: 17.9260 - mean_absolute_percentage_error: 21.3920\n",
      "Epoch 91/300\n",
      "238/238 [==============================] - 0s 1ms/step - loss: 17.8183 - mean_absolute_percentage_error: 21.3007\n",
      "Epoch 92/300\n",
      "238/238 [==============================] - 0s 1ms/step - loss: 17.9152 - mean_absolute_percentage_error: 21.2625\n",
      "Epoch 93/300\n",
      "238/238 [==============================] - 0s 1ms/step - loss: 17.8768 - mean_absolute_percentage_error: 21.2827\n",
      "Epoch 94/300\n",
      "238/238 [==============================] - 0s 1ms/step - loss: 17.8797 - mean_absolute_percentage_error: 21.2484\n",
      "Epoch 95/300\n",
      "238/238 [==============================] - 0s 1ms/step - loss: 17.8495 - mean_absolute_percentage_error: 21.2858\n",
      "Epoch 96/300\n",
      "238/238 [==============================] - 0s 1ms/step - loss: 17.8853 - mean_absolute_percentage_error: 21.2931\n",
      "Epoch 97/300\n",
      "238/238 [==============================] - 0s 1ms/step - loss: 17.8593 - mean_absolute_percentage_error: 21.2835\n",
      "Epoch 98/300\n",
      "238/238 [==============================] - 0s 1ms/step - loss: 17.8631 - mean_absolute_percentage_error: 21.2177\n",
      "Epoch 99/300\n",
      "238/238 [==============================] - 0s 1ms/step - loss: 17.8215 - mean_absolute_percentage_error: 21.3418\n",
      "Epoch 100/300\n",
      "238/238 [==============================] - 0s 1ms/step - loss: 17.8381 - mean_absolute_percentage_error: 21.3738\n",
      "Epoch 101/300\n",
      "238/238 [==============================] - 0s 1ms/step - loss: 17.8742 - mean_absolute_percentage_error: 21.2960\n",
      "Epoch 102/300\n",
      "238/238 [==============================] - 0s 1ms/step - loss: 17.8570 - mean_absolute_percentage_error: 21.3506\n",
      "Epoch 103/300\n",
      "238/238 [==============================] - 0s 1ms/step - loss: 17.8130 - mean_absolute_percentage_error: 21.2411\n",
      "Epoch 104/300\n",
      "238/238 [==============================] - 0s 1ms/step - loss: 17.7588 - mean_absolute_percentage_error: 21.2924\n",
      "Epoch 105/300\n",
      "238/238 [==============================] - 0s 1ms/step - loss: 17.8238 - mean_absolute_percentage_error: 21.2919\n",
      "Epoch 106/300\n",
      "238/238 [==============================] - 0s 1ms/step - loss: 17.7886 - mean_absolute_percentage_error: 21.2213\n",
      "Epoch 107/300\n",
      "238/238 [==============================] - 0s 1ms/step - loss: 17.7297 - mean_absolute_percentage_error: 21.3203\n",
      "Epoch 108/300\n",
      "238/238 [==============================] - 0s 1ms/step - loss: 17.7585 - mean_absolute_percentage_error: 21.2961\n",
      "Epoch 109/300\n",
      "238/238 [==============================] - 0s 1ms/step - loss: 17.7285 - mean_absolute_percentage_error: 21.1160\n",
      "Epoch 110/300\n",
      "238/238 [==============================] - 0s 1ms/step - loss: 17.7801 - mean_absolute_percentage_error: 21.3913\n",
      "Epoch 111/300\n",
      "238/238 [==============================] - 0s 1ms/step - loss: 17.7651 - mean_absolute_percentage_error: 21.2279\n",
      "Epoch 112/300\n",
      "238/238 [==============================] - 0s 1ms/step - loss: 17.7819 - mean_absolute_percentage_error: 21.3185\n",
      "Epoch 113/300\n",
      "238/238 [==============================] - 0s 1ms/step - loss: 17.6355 - mean_absolute_percentage_error: 21.3277\n",
      "Epoch 114/300\n",
      "238/238 [==============================] - 0s 1ms/step - loss: 17.7050 - mean_absolute_percentage_error: 21.2605\n",
      "Epoch 115/300\n",
      "238/238 [==============================] - 0s 1ms/step - loss: 17.7706 - mean_absolute_percentage_error: 21.4051\n",
      "Epoch 116/300\n",
      "238/238 [==============================] - 0s 1ms/step - loss: 17.7922 - mean_absolute_percentage_error: 21.3102\n",
      "Epoch 117/300\n",
      "238/238 [==============================] - 0s 1ms/step - loss: 17.6826 - mean_absolute_percentage_error: 21.2309\n",
      "Epoch 118/300\n",
      "238/238 [==============================] - 0s 1ms/step - loss: 17.7421 - mean_absolute_percentage_error: 21.2648\n",
      "Epoch 119/300\n",
      "238/238 [==============================] - 0s 1ms/step - loss: 17.6474 - mean_absolute_percentage_error: 21.3033\n",
      "Epoch 120/300\n",
      "238/238 [==============================] - 0s 1ms/step - loss: 17.7530 - mean_absolute_percentage_error: 21.3038\n",
      "Epoch 121/300\n",
      "238/238 [==============================] - 0s 1ms/step - loss: 17.6063 - mean_absolute_percentage_error: 21.1838\n",
      "Epoch 122/300\n",
      "238/238 [==============================] - 0s 1ms/step - loss: 17.7147 - mean_absolute_percentage_error: 21.3746\n",
      "Epoch 123/300\n",
      "238/238 [==============================] - 0s 1ms/step - loss: 17.7731 - mean_absolute_percentage_error: 21.3751\n",
      "Epoch 124/300\n",
      "238/238 [==============================] - 0s 1ms/step - loss: 17.6385 - mean_absolute_percentage_error: 21.3401\n",
      "Epoch 125/300\n",
      "238/238 [==============================] - 0s 1ms/step - loss: 17.6842 - mean_absolute_percentage_error: 21.2760\n",
      "Epoch 126/300\n",
      "238/238 [==============================] - 0s 1ms/step - loss: 17.6598 - mean_absolute_percentage_error: 21.2368\n",
      "Epoch 127/300\n",
      "238/238 [==============================] - 0s 1ms/step - loss: 17.6419 - mean_absolute_percentage_error: 21.3077\n",
      "Epoch 128/300\n",
      "238/238 [==============================] - 0s 1ms/step - loss: 17.5938 - mean_absolute_percentage_error: 21.2823\n",
      "Epoch 129/300\n",
      "238/238 [==============================] - 0s 1ms/step - loss: 17.5739 - mean_absolute_percentage_error: 21.2285\n",
      "Epoch 130/300\n"
     ]
    },
    {
     "name": "stdout",
     "output_type": "stream",
     "text": [
      "238/238 [==============================] - 0s 1ms/step - loss: 17.5866 - mean_absolute_percentage_error: 21.2936\n",
      "Epoch 131/300\n",
      "238/238 [==============================] - 0s 1ms/step - loss: 17.5898 - mean_absolute_percentage_error: 21.2302\n",
      "Epoch 132/300\n",
      "238/238 [==============================] - 0s 1ms/step - loss: 17.5687 - mean_absolute_percentage_error: 21.2046\n",
      "Epoch 133/300\n",
      "238/238 [==============================] - 0s 1ms/step - loss: 17.6141 - mean_absolute_percentage_error: 21.2123\n",
      "Epoch 134/300\n",
      "238/238 [==============================] - 0s 1ms/step - loss: 17.6021 - mean_absolute_percentage_error: 21.3011\n",
      "Epoch 135/300\n",
      "238/238 [==============================] - 0s 1ms/step - loss: 17.5536 - mean_absolute_percentage_error: 21.2179\n",
      "Epoch 136/300\n",
      "238/238 [==============================] - 0s 1ms/step - loss: 17.5651 - mean_absolute_percentage_error: 21.2510\n",
      "Epoch 137/300\n",
      "238/238 [==============================] - 0s 1ms/step - loss: 17.5427 - mean_absolute_percentage_error: 21.2369\n",
      "Epoch 138/300\n",
      "238/238 [==============================] - 0s 1ms/step - loss: 17.5702 - mean_absolute_percentage_error: 21.2317\n",
      "Epoch 139/300\n",
      "238/238 [==============================] - 0s 1ms/step - loss: 17.6087 - mean_absolute_percentage_error: 21.2807\n",
      "Epoch 140/300\n",
      "238/238 [==============================] - 0s 1ms/step - loss: 17.5263 - mean_absolute_percentage_error: 21.2230\n",
      "Epoch 141/300\n",
      "238/238 [==============================] - 0s 1ms/step - loss: 17.5282 - mean_absolute_percentage_error: 21.2118\n",
      "Epoch 142/300\n",
      "238/238 [==============================] - 0s 1ms/step - loss: 17.5590 - mean_absolute_percentage_error: 21.2826\n",
      "Epoch 143/300\n",
      "238/238 [==============================] - 0s 1ms/step - loss: 17.4641 - mean_absolute_percentage_error: 21.2140\n",
      "Epoch 144/300\n",
      "238/238 [==============================] - 0s 1ms/step - loss: 17.5247 - mean_absolute_percentage_error: 21.2666\n",
      "Epoch 145/300\n",
      "238/238 [==============================] - 0s 1ms/step - loss: 17.4777 - mean_absolute_percentage_error: 21.2595\n",
      "Epoch 146/300\n",
      "238/238 [==============================] - 0s 1ms/step - loss: 17.4821 - mean_absolute_percentage_error: 21.2649\n",
      "Epoch 147/300\n",
      "238/238 [==============================] - 0s 1ms/step - loss: 17.6695 - mean_absolute_percentage_error: 21.3553\n",
      "Epoch 148/300\n",
      "238/238 [==============================] - 0s 1ms/step - loss: 17.4134 - mean_absolute_percentage_error: 21.1533\n",
      "Epoch 149/300\n",
      "238/238 [==============================] - 0s 1ms/step - loss: 17.4800 - mean_absolute_percentage_error: 21.3043\n",
      "Epoch 150/300\n",
      "238/238 [==============================] - 0s 1ms/step - loss: 17.4800 - mean_absolute_percentage_error: 21.2637\n",
      "Epoch 151/300\n",
      "238/238 [==============================] - 0s 1ms/step - loss: 17.4469 - mean_absolute_percentage_error: 21.2400\n",
      "Epoch 152/300\n",
      "238/238 [==============================] - 0s 1ms/step - loss: 17.5098 - mean_absolute_percentage_error: 21.2365\n",
      "Epoch 153/300\n",
      "238/238 [==============================] - 0s 1ms/step - loss: 17.4048 - mean_absolute_percentage_error: 21.2013\n",
      "Epoch 154/300\n",
      "238/238 [==============================] - 0s 1ms/step - loss: 17.4404 - mean_absolute_percentage_error: 21.2057\n",
      "Epoch 155/300\n",
      "238/238 [==============================] - 0s 1ms/step - loss: 17.4240 - mean_absolute_percentage_error: 21.2651\n",
      "Epoch 156/300\n",
      "238/238 [==============================] - 0s 1ms/step - loss: 17.5119 - mean_absolute_percentage_error: 21.3292\n",
      "Epoch 157/300\n",
      "238/238 [==============================] - 0s 1ms/step - loss: 17.4029 - mean_absolute_percentage_error: 21.2330\n",
      "Epoch 158/300\n",
      "238/238 [==============================] - 0s 1ms/step - loss: 17.3932 - mean_absolute_percentage_error: 21.2852\n",
      "Epoch 159/300\n",
      "238/238 [==============================] - 0s 1ms/step - loss: 17.4117 - mean_absolute_percentage_error: 21.2669\n",
      "Epoch 160/300\n",
      "238/238 [==============================] - 0s 1ms/step - loss: 17.4944 - mean_absolute_percentage_error: 21.3457\n",
      "Epoch 161/300\n",
      "238/238 [==============================] - 0s 1ms/step - loss: 17.3615 - mean_absolute_percentage_error: 21.1965\n",
      "Epoch 162/300\n",
      "238/238 [==============================] - 0s 1ms/step - loss: 17.4024 - mean_absolute_percentage_error: 21.2154\n",
      "Epoch 163/300\n",
      "238/238 [==============================] - 0s 1ms/step - loss: 17.3790 - mean_absolute_percentage_error: 21.2160\n",
      "Epoch 164/300\n",
      "238/238 [==============================] - 0s 1ms/step - loss: 17.3528 - mean_absolute_percentage_error: 21.3290\n",
      "Epoch 165/300\n",
      "238/238 [==============================] - 0s 1ms/step - loss: 17.3489 - mean_absolute_percentage_error: 21.2833\n",
      "Epoch 166/300\n",
      "238/238 [==============================] - 0s 1ms/step - loss: 17.3489 - mean_absolute_percentage_error: 21.2710\n",
      "Epoch 167/300\n",
      "238/238 [==============================] - 0s 1ms/step - loss: 17.3229 - mean_absolute_percentage_error: 21.2383\n",
      "Epoch 168/300\n",
      "238/238 [==============================] - 0s 1ms/step - loss: 17.3231 - mean_absolute_percentage_error: 21.2359\n",
      "Epoch 169/300\n",
      "238/238 [==============================] - 0s 1ms/step - loss: 17.3339 - mean_absolute_percentage_error: 21.3123\n",
      "Epoch 170/300\n",
      "238/238 [==============================] - 0s 1ms/step - loss: 17.4199 - mean_absolute_percentage_error: 21.3635\n",
      "Epoch 171/300\n",
      "238/238 [==============================] - 0s 1ms/step - loss: 17.3688 - mean_absolute_percentage_error: 21.2735\n",
      "Epoch 172/300\n",
      "238/238 [==============================] - 0s 1ms/step - loss: 17.2722 - mean_absolute_percentage_error: 21.1724\n",
      "Epoch 173/300\n",
      "238/238 [==============================] - 0s 1ms/step - loss: 17.3491 - mean_absolute_percentage_error: 21.2142\n",
      "Epoch 174/300\n",
      "238/238 [==============================] - 0s 1ms/step - loss: 17.3725 - mean_absolute_percentage_error: 21.3208\n",
      "Epoch 175/300\n",
      "238/238 [==============================] - 0s 1ms/step - loss: 17.3797 - mean_absolute_percentage_error: 21.2778\n",
      "Epoch 176/300\n",
      "238/238 [==============================] - 0s 1ms/step - loss: 17.2940 - mean_absolute_percentage_error: 21.3027\n",
      "Epoch 177/300\n",
      "238/238 [==============================] - 0s 1ms/step - loss: 17.3591 - mean_absolute_percentage_error: 21.1665\n",
      "Epoch 178/300\n",
      "238/238 [==============================] - 0s 1ms/step - loss: 17.2551 - mean_absolute_percentage_error: 21.2169\n",
      "Epoch 179/300\n",
      "238/238 [==============================] - 0s 1ms/step - loss: 17.3211 - mean_absolute_percentage_error: 21.3407\n",
      "Epoch 180/300\n",
      "238/238 [==============================] - 0s 1ms/step - loss: 17.3113 - mean_absolute_percentage_error: 21.2970\n",
      "Epoch 181/300\n",
      "238/238 [==============================] - 0s 1ms/step - loss: 17.4619 - mean_absolute_percentage_error: 21.3534\n",
      "Epoch 182/300\n",
      "238/238 [==============================] - 0s 1ms/step - loss: 17.2316 - mean_absolute_percentage_error: 21.2419\n",
      "Epoch 183/300\n",
      "238/238 [==============================] - 0s 1ms/step - loss: 17.3047 - mean_absolute_percentage_error: 21.2317\n",
      "Epoch 184/300\n",
      "238/238 [==============================] - 0s 1ms/step - loss: 17.2754 - mean_absolute_percentage_error: 21.2328\n",
      "Epoch 185/300\n",
      "238/238 [==============================] - 0s 1ms/step - loss: 17.2966 - mean_absolute_percentage_error: 21.2873\n",
      "Epoch 186/300\n",
      "238/238 [==============================] - 0s 1ms/step - loss: 17.2164 - mean_absolute_percentage_error: 21.1759\n",
      "Epoch 187/300\n",
      "238/238 [==============================] - 0s 1ms/step - loss: 17.2867 - mean_absolute_percentage_error: 21.2417\n",
      "Epoch 188/300\n",
      "238/238 [==============================] - 0s 1ms/step - loss: 17.3445 - mean_absolute_percentage_error: 21.2910\n",
      "Epoch 189/300\n",
      "238/238 [==============================] - 0s 1ms/step - loss: 17.2359 - mean_absolute_percentage_error: 21.2641\n",
      "Epoch 190/300\n",
      "238/238 [==============================] - 0s 1ms/step - loss: 17.2782 - mean_absolute_percentage_error: 21.2504\n",
      "Epoch 191/300\n",
      "238/238 [==============================] - 0s 1ms/step - loss: 17.2926 - mean_absolute_percentage_error: 21.3926\n",
      "Epoch 192/300\n",
      "238/238 [==============================] - 0s 1ms/step - loss: 17.2838 - mean_absolute_percentage_error: 21.2472\n",
      "Epoch 193/300\n",
      "238/238 [==============================] - 0s 1ms/step - loss: 17.2251 - mean_absolute_percentage_error: 21.2250\n",
      "Epoch 194/300\n"
     ]
    },
    {
     "name": "stdout",
     "output_type": "stream",
     "text": [
      "238/238 [==============================] - 0s 1ms/step - loss: 17.3057 - mean_absolute_percentage_error: 21.3022\n",
      "Epoch 195/300\n",
      "238/238 [==============================] - 0s 1ms/step - loss: 17.2728 - mean_absolute_percentage_error: 21.2206\n",
      "Epoch 196/300\n",
      "238/238 [==============================] - 0s 1ms/step - loss: 17.2878 - mean_absolute_percentage_error: 21.2225\n",
      "Epoch 197/300\n",
      "238/238 [==============================] - 0s 1ms/step - loss: 17.1687 - mean_absolute_percentage_error: 21.2049\n",
      "Epoch 198/300\n",
      "238/238 [==============================] - 0s 1ms/step - loss: 17.2492 - mean_absolute_percentage_error: 21.2506\n",
      "Epoch 199/300\n",
      "238/238 [==============================] - 0s 1ms/step - loss: 17.2022 - mean_absolute_percentage_error: 21.2435\n",
      "Epoch 200/300\n",
      "238/238 [==============================] - 0s 1ms/step - loss: 17.2498 - mean_absolute_percentage_error: 21.1910\n",
      "Epoch 201/300\n",
      "238/238 [==============================] - 0s 1ms/step - loss: 17.1769 - mean_absolute_percentage_error: 21.1393\n",
      "Epoch 202/300\n",
      "238/238 [==============================] - 0s 1ms/step - loss: 17.2225 - mean_absolute_percentage_error: 21.1737\n",
      "Epoch 203/300\n",
      "238/238 [==============================] - 0s 1ms/step - loss: 17.1990 - mean_absolute_percentage_error: 21.2364\n",
      "Epoch 204/300\n",
      "238/238 [==============================] - 0s 1ms/step - loss: 17.2136 - mean_absolute_percentage_error: 21.2821\n",
      "Epoch 205/300\n",
      "238/238 [==============================] - 0s 1ms/step - loss: 17.2108 - mean_absolute_percentage_error: 21.2638\n",
      "Epoch 206/300\n",
      "238/238 [==============================] - 0s 1ms/step - loss: 17.2033 - mean_absolute_percentage_error: 21.1710\n",
      "Epoch 207/300\n",
      "238/238 [==============================] - 0s 1ms/step - loss: 17.1874 - mean_absolute_percentage_error: 21.2798\n",
      "Epoch 208/300\n",
      "238/238 [==============================] - 0s 1ms/step - loss: 17.1533 - mean_absolute_percentage_error: 21.1478\n",
      "Epoch 209/300\n",
      "238/238 [==============================] - 0s 1ms/step - loss: 17.1943 - mean_absolute_percentage_error: 21.1918\n",
      "Epoch 210/300\n",
      "238/238 [==============================] - 0s 1ms/step - loss: 17.1251 - mean_absolute_percentage_error: 21.1871\n",
      "Epoch 211/300\n",
      "238/238 [==============================] - 0s 1ms/step - loss: 17.2385 - mean_absolute_percentage_error: 21.2218\n",
      "Epoch 212/300\n",
      "238/238 [==============================] - 0s 1ms/step - loss: 17.2008 - mean_absolute_percentage_error: 21.2934\n",
      "Epoch 213/300\n",
      "238/238 [==============================] - 0s 1ms/step - loss: 17.1387 - mean_absolute_percentage_error: 21.1729\n",
      "Epoch 214/300\n",
      "238/238 [==============================] - 0s 1ms/step - loss: 17.1265 - mean_absolute_percentage_error: 21.2825\n",
      "Epoch 215/300\n",
      "238/238 [==============================] - 0s 1ms/step - loss: 17.2095 - mean_absolute_percentage_error: 21.1566\n",
      "Epoch 216/300\n",
      "238/238 [==============================] - 0s 1ms/step - loss: 17.1502 - mean_absolute_percentage_error: 21.2611\n",
      "Epoch 217/300\n",
      "238/238 [==============================] - 0s 1ms/step - loss: 17.1609 - mean_absolute_percentage_error: 21.2467\n",
      "Epoch 218/300\n",
      "238/238 [==============================] - 0s 1ms/step - loss: 17.0965 - mean_absolute_percentage_error: 21.1468\n",
      "Epoch 219/300\n",
      "238/238 [==============================] - 0s 1ms/step - loss: 17.0977 - mean_absolute_percentage_error: 21.2387\n",
      "Epoch 220/300\n",
      "238/238 [==============================] - 0s 1ms/step - loss: 17.1063 - mean_absolute_percentage_error: 21.3001\n",
      "Epoch 221/300\n",
      "238/238 [==============================] - 0s 1ms/step - loss: 17.1184 - mean_absolute_percentage_error: 21.2020\n",
      "Epoch 222/300\n",
      "238/238 [==============================] - 0s 1ms/step - loss: 17.1954 - mean_absolute_percentage_error: 21.3606\n",
      "Epoch 223/300\n",
      "238/238 [==============================] - 0s 1ms/step - loss: 17.0848 - mean_absolute_percentage_error: 21.1517\n",
      "Epoch 224/300\n",
      "238/238 [==============================] - 0s 1ms/step - loss: 17.1025 - mean_absolute_percentage_error: 21.1820\n",
      "Epoch 225/300\n",
      "238/238 [==============================] - 0s 1ms/step - loss: 17.1512 - mean_absolute_percentage_error: 21.2246\n",
      "Epoch 226/300\n",
      "238/238 [==============================] - 0s 1ms/step - loss: 17.1208 - mean_absolute_percentage_error: 21.2799\n",
      "Epoch 227/300\n",
      "238/238 [==============================] - 0s 1ms/step - loss: 17.0914 - mean_absolute_percentage_error: 21.2014\n",
      "Epoch 228/300\n",
      "238/238 [==============================] - 0s 1ms/step - loss: 17.1519 - mean_absolute_percentage_error: 21.2617\n",
      "Epoch 229/300\n",
      "238/238 [==============================] - 0s 1ms/step - loss: 17.2787 - mean_absolute_percentage_error: 21.4298\n",
      "Epoch 230/300\n",
      "238/238 [==============================] - 0s 1ms/step - loss: 17.1200 - mean_absolute_percentage_error: 21.1938\n",
      "Epoch 231/300\n",
      "238/238 [==============================] - 0s 1ms/step - loss: 17.1183 - mean_absolute_percentage_error: 21.1586\n",
      "Epoch 232/300\n",
      "238/238 [==============================] - 0s 1ms/step - loss: 17.1070 - mean_absolute_percentage_error: 21.1883\n",
      "Epoch 233/300\n",
      "238/238 [==============================] - 0s 1ms/step - loss: 17.1510 - mean_absolute_percentage_error: 21.2062\n",
      "Epoch 234/300\n",
      "238/238 [==============================] - 0s 1ms/step - loss: 17.0934 - mean_absolute_percentage_error: 21.1368\n",
      "Epoch 235/300\n",
      "238/238 [==============================] - 0s 1ms/step - loss: 17.0200 - mean_absolute_percentage_error: 21.2616\n",
      "Epoch 236/300\n",
      "238/238 [==============================] - 0s 2ms/step - loss: 17.1094 - mean_absolute_percentage_error: 21.1311\n",
      "Epoch 237/300\n",
      "238/238 [==============================] - 0s 2ms/step - loss: 17.0495 - mean_absolute_percentage_error: 21.2021\n",
      "Epoch 238/300\n",
      "238/238 [==============================] - 0s 1ms/step - loss: 17.2050 - mean_absolute_percentage_error: 21.2661\n",
      "Epoch 239/300\n",
      "238/238 [==============================] - 0s 1ms/step - loss: 17.0743 - mean_absolute_percentage_error: 21.1752\n",
      "Epoch 240/300\n",
      "238/238 [==============================] - 0s 1ms/step - loss: 17.0071 - mean_absolute_percentage_error: 21.1217\n",
      "Epoch 241/300\n",
      "238/238 [==============================] - 0s 1ms/step - loss: 17.0409 - mean_absolute_percentage_error: 21.1818\n",
      "Epoch 242/300\n",
      "238/238 [==============================] - 0s 1ms/step - loss: 17.0713 - mean_absolute_percentage_error: 21.2182\n",
      "Epoch 243/300\n",
      "238/238 [==============================] - 0s 1ms/step - loss: 17.0446 - mean_absolute_percentage_error: 21.1918\n",
      "Epoch 244/300\n",
      "238/238 [==============================] - 0s 1ms/step - loss: 17.1420 - mean_absolute_percentage_error: 21.2171\n",
      "Epoch 245/300\n",
      "238/238 [==============================] - 0s 1ms/step - loss: 17.0671 - mean_absolute_percentage_error: 21.2037\n",
      "Epoch 246/300\n",
      "238/238 [==============================] - 0s 1ms/step - loss: 17.0635 - mean_absolute_percentage_error: 21.1696\n",
      "Epoch 247/300\n",
      "238/238 [==============================] - 0s 1ms/step - loss: 17.0358 - mean_absolute_percentage_error: 21.2849\n",
      "Epoch 248/300\n",
      "238/238 [==============================] - 0s 1ms/step - loss: 17.4404 - mean_absolute_percentage_error: 21.3961\n",
      "Epoch 249/300\n",
      "238/238 [==============================] - 0s 1ms/step - loss: 17.1018 - mean_absolute_percentage_error: 21.1435\n",
      "Epoch 250/300\n",
      "238/238 [==============================] - 0s 1ms/step - loss: 17.0053 - mean_absolute_percentage_error: 21.2094\n",
      "Epoch 251/300\n",
      "238/238 [==============================] - 0s 1ms/step - loss: 17.0604 - mean_absolute_percentage_error: 21.1606\n",
      "Epoch 252/300\n",
      "238/238 [==============================] - 0s 1ms/step - loss: 17.0182 - mean_absolute_percentage_error: 21.2047\n",
      "Epoch 253/300\n",
      "238/238 [==============================] - 0s 1ms/step - loss: 17.0068 - mean_absolute_percentage_error: 21.0545\n",
      "Epoch 254/300\n",
      "238/238 [==============================] - 0s 1ms/step - loss: 16.9917 - mean_absolute_percentage_error: 21.1827\n",
      "Epoch 255/300\n",
      "238/238 [==============================] - 0s 1ms/step - loss: 17.1070 - mean_absolute_percentage_error: 21.2486\n",
      "Epoch 256/300\n",
      "238/238 [==============================] - 0s 1ms/step - loss: 17.1229 - mean_absolute_percentage_error: 21.4039\n",
      "Epoch 257/300\n",
      "238/238 [==============================] - 0s 1ms/step - loss: 17.0358 - mean_absolute_percentage_error: 21.1269\n",
      "Epoch 258/300\n"
     ]
    },
    {
     "name": "stdout",
     "output_type": "stream",
     "text": [
      "238/238 [==============================] - 0s 1ms/step - loss: 17.0585 - mean_absolute_percentage_error: 21.2711\n",
      "Epoch 259/300\n",
      "238/238 [==============================] - 0s 1ms/step - loss: 17.0214 - mean_absolute_percentage_error: 21.1589\n",
      "Epoch 260/300\n",
      "238/238 [==============================] - 0s 1ms/step - loss: 16.9829 - mean_absolute_percentage_error: 21.1904\n",
      "Epoch 261/300\n",
      "238/238 [==============================] - 0s 1ms/step - loss: 17.0278 - mean_absolute_percentage_error: 21.2790\n",
      "Epoch 262/300\n",
      "238/238 [==============================] - 0s 1ms/step - loss: 17.1141 - mean_absolute_percentage_error: 21.1272\n",
      "Epoch 263/300\n",
      "238/238 [==============================] - 0s 1ms/step - loss: 16.9997 - mean_absolute_percentage_error: 21.3101\n",
      "Epoch 264/300\n",
      "238/238 [==============================] - 0s 1ms/step - loss: 17.1355 - mean_absolute_percentage_error: 21.1731\n",
      "Epoch 265/300\n",
      "238/238 [==============================] - 0s 1ms/step - loss: 17.0690 - mean_absolute_percentage_error: 21.2236\n",
      "Epoch 266/300\n",
      "238/238 [==============================] - 0s 1ms/step - loss: 16.9919 - mean_absolute_percentage_error: 21.2369\n",
      "Epoch 267/300\n",
      "238/238 [==============================] - 0s 1ms/step - loss: 16.9909 - mean_absolute_percentage_error: 21.0521\n",
      "Epoch 268/300\n",
      "238/238 [==============================] - 0s 1ms/step - loss: 17.0168 - mean_absolute_percentage_error: 21.2516\n",
      "Epoch 269/300\n",
      "238/238 [==============================] - 0s 1ms/step - loss: 17.3295 - mean_absolute_percentage_error: 21.4788\n",
      "Epoch 270/300\n",
      "238/238 [==============================] - 0s 1ms/step - loss: 17.0018 - mean_absolute_percentage_error: 21.1479\n",
      "Epoch 271/300\n",
      "238/238 [==============================] - 0s 1ms/step - loss: 16.9418 - mean_absolute_percentage_error: 21.1102\n",
      "Epoch 272/300\n",
      "238/238 [==============================] - 0s 1ms/step - loss: 17.0830 - mean_absolute_percentage_error: 21.1601\n",
      "Epoch 273/300\n",
      "238/238 [==============================] - 0s 1ms/step - loss: 16.9700 - mean_absolute_percentage_error: 21.1161\n",
      "Epoch 274/300\n",
      "238/238 [==============================] - 0s 1ms/step - loss: 16.9894 - mean_absolute_percentage_error: 21.1583\n",
      "Epoch 275/300\n",
      "238/238 [==============================] - 0s 1ms/step - loss: 17.0158 - mean_absolute_percentage_error: 21.1823\n",
      "Epoch 276/300\n",
      "238/238 [==============================] - 0s 1ms/step - loss: 16.9849 - mean_absolute_percentage_error: 21.2034\n",
      "Epoch 277/300\n",
      "238/238 [==============================] - 0s 1ms/step - loss: 17.0299 - mean_absolute_percentage_error: 21.1346\n",
      "Epoch 278/300\n",
      "238/238 [==============================] - 0s 1ms/step - loss: 17.0373 - mean_absolute_percentage_error: 21.2095\n",
      "Epoch 279/300\n",
      "238/238 [==============================] - 0s 1ms/step - loss: 16.9585 - mean_absolute_percentage_error: 21.1629\n",
      "Epoch 280/300\n",
      "238/238 [==============================] - 0s 1ms/step - loss: 16.9284 - mean_absolute_percentage_error: 21.1230\n",
      "Epoch 281/300\n",
      "238/238 [==============================] - 0s 1ms/step - loss: 16.9452 - mean_absolute_percentage_error: 21.1511\n",
      "Epoch 282/300\n",
      "238/238 [==============================] - 0s 1ms/step - loss: 16.9916 - mean_absolute_percentage_error: 21.2100\n",
      "Epoch 283/300\n",
      "238/238 [==============================] - 0s 1ms/step - loss: 17.0018 - mean_absolute_percentage_error: 21.1782\n",
      "Epoch 284/300\n",
      "238/238 [==============================] - 0s 1ms/step - loss: 16.9286 - mean_absolute_percentage_error: 21.1650\n",
      "Epoch 285/300\n",
      "238/238 [==============================] - 0s 1ms/step - loss: 16.9121 - mean_absolute_percentage_error: 21.0915\n",
      "Epoch 286/300\n",
      "238/238 [==============================] - 0s 1ms/step - loss: 16.9476 - mean_absolute_percentage_error: 21.1891\n",
      "Epoch 287/300\n",
      "238/238 [==============================] - 0s 1ms/step - loss: 16.9602 - mean_absolute_percentage_error: 21.2183\n",
      "Epoch 288/300\n",
      "238/238 [==============================] - 0s 1ms/step - loss: 16.9989 - mean_absolute_percentage_error: 21.1736\n",
      "Epoch 289/300\n",
      "238/238 [==============================] - 0s 1ms/step - loss: 17.0022 - mean_absolute_percentage_error: 21.2555\n",
      "Epoch 290/300\n",
      "238/238 [==============================] - 0s 2ms/step - loss: 16.9427 - mean_absolute_percentage_error: 21.1633\n",
      "Epoch 291/300\n",
      "238/238 [==============================] - 0s 2ms/step - loss: 16.8889 - mean_absolute_percentage_error: 21.1789\n",
      "Epoch 292/300\n",
      "238/238 [==============================] - 0s 2ms/step - loss: 17.0080 - mean_absolute_percentage_error: 21.2025\n",
      "Epoch 293/300\n",
      "238/238 [==============================] - 0s 1ms/step - loss: 16.9144 - mean_absolute_percentage_error: 21.1492\n",
      "Epoch 294/300\n",
      "238/238 [==============================] - 0s 1ms/step - loss: 16.9137 - mean_absolute_percentage_error: 21.2317\n",
      "Epoch 295/300\n",
      "238/238 [==============================] - 0s 1ms/step - loss: 17.0225 - mean_absolute_percentage_error: 21.2388\n",
      "Epoch 296/300\n",
      "238/238 [==============================] - 0s 1ms/step - loss: 16.9160 - mean_absolute_percentage_error: 21.1646\n",
      "Epoch 297/300\n",
      "238/238 [==============================] - 0s 1ms/step - loss: 16.9336 - mean_absolute_percentage_error: 21.1849\n",
      "Epoch 298/300\n",
      "238/238 [==============================] - 0s 1ms/step - loss: 17.0497 - mean_absolute_percentage_error: 21.2077\n",
      "Epoch 299/300\n",
      "238/238 [==============================] - 0s 1ms/step - loss: 16.9484 - mean_absolute_percentage_error: 21.1946\n",
      "Epoch 300/300\n",
      "238/238 [==============================] - 0s 1ms/step - loss: 16.9377 - mean_absolute_percentage_error: 21.1831\n"
     ]
    }
   ],
   "source": [
    "history = model.fit(X_train, y_train, epochs=300, batch_size=50, shuffle=True)"
   ]
  },
  {
   "cell_type": "code",
   "execution_count": 101,
   "metadata": {},
   "outputs": [
    {
     "data": {
      "image/png": "[encoded data removed]",
      "text/plain": [
       "<Figure size 1000x800 with 1 Axes>"
      ]
     },
     "metadata": {},
     "output_type": "display_data"
    }
   ],
   "source": [
    "# manually set the parameters of the figure to an appropriate size\n",
    "plt.rcParams['figure.figsize'] = [10,8]\n",
    "plt.plot(history.history['loss'],'r-',linewidth=3.0) \n",
    "plt.ylim((0,100))\n",
    "plt.xlabel('DNN Training steps', fontsize = 20)\n",
    "plt.ylabel('Loss (MSE)')\n",
    "plt.show()"
   ]
  },
  {
   "cell_type": "code",
   "execution_count": 102,
   "metadata": {},
   "outputs": [
    {
     "name": "stdout",
     "output_type": "stream",
     "text": [
      "371/371 [==============================] - 0s 921us/step\n",
      "0.38097946480135436\n"
     ]
    },
    {
     "name": "stderr",
     "output_type": "stream",
     "text": [
      "/Users/amber/opt/anaconda3/lib/python3.9/site-packages/sklearn/utils/validation.py:605: FutureWarning: is_sparse is deprecated and will be removed in a future version. Check `isinstance(dtype, pd.SparseDtype)` instead.\n",
      "  if is_sparse(pd_dtype):\n",
      "/Users/amber/opt/anaconda3/lib/python3.9/site-packages/sklearn/utils/validation.py:614: FutureWarning: is_sparse is deprecated and will be removed in a future version. Check `isinstance(dtype, pd.SparseDtype)` instead.\n",
      "  if is_sparse(pd_dtype) or not is_extension_array_dtype(pd_dtype):\n"
     ]
    }
   ],
   "source": [
    "ytrain_pred = model.predict(X_train,batch_size=None)\n",
    "from sklearn.metrics import r2_score\n",
    "R2 = r2_score(y_train,ytrain_pred)\n",
    "print(R2)"
   ]
  },
  {
   "cell_type": "code",
   "execution_count": 103,
   "metadata": {
    "scrolled": true
   },
   "outputs": [
    {
     "name": "stdout",
     "output_type": "stream",
     "text": [
      "42/42 [==============================] - 0s 1ms/step\n",
      "0.262468152738357\n"
     ]
    },
    {
     "name": "stderr",
     "output_type": "stream",
     "text": [
      "/Users/amber/opt/anaconda3/lib/python3.9/site-packages/sklearn/utils/validation.py:605: FutureWarning: is_sparse is deprecated and will be removed in a future version. Check `isinstance(dtype, pd.SparseDtype)` instead.\n",
      "  if is_sparse(pd_dtype):\n",
      "/Users/amber/opt/anaconda3/lib/python3.9/site-packages/sklearn/utils/validation.py:614: FutureWarning: is_sparse is deprecated and will be removed in a future version. Check `isinstance(dtype, pd.SparseDtype)` instead.\n",
      "  if is_sparse(pd_dtype) or not is_extension_array_dtype(pd_dtype):\n"
     ]
    }
   ],
   "source": [
    "y_pred = model.predict(X_eval,batch_size=None)\n",
    "from sklearn.metrics import r2_score\n",
    "R2 = r2_score(y_eval,y_pred)\n",
    "print(R2)"
   ]
  },
  {
   "cell_type": "code",
   "execution_count": null,
   "metadata": {},
   "outputs": [],
   "source": [
    "frd = []\n",
    "for i in range(len(y_pred)):\n",
    "    frd.append(y_pred[i,0])\n",
    "mape = keras.losses.MeanSquaredError()\n",
    "print(mape(y_eval.to_numpy(), frd).numpy())\n",
    "R2 = r2_score(y_eval,frd)\n",
    "print(R2)"
   ]
  },
  {
   "cell_type": "code",
   "execution_count": null,
   "metadata": {},
   "outputs": [],
   "source": [
    "plt.figure(figsize = (10,8))\n",
    "plt.plot(y_pred[:200], color = 'blue', label = 'Predicted data')\n",
    "plt.plot(y_eval.values[:200], color = 'red', label = 'Real test data')\n",
    "plt.legend(fontsize=20)\n",
    "plt.ylabel('Response Time')\n",
    "plt.show()"
   ]
  },
  {
   "cell_type": "code",
   "execution_count": null,
   "metadata": {},
   "outputs": [],
   "source": [
    "#frd_1 = model.layers[0].get_weights()\n",
    "#frd_2 = model.layers[1].get_weights()\n",
    "#frd_3 = model.layers[2].get_weights()\n",
    "#frd_4 = model.layers[3].get_weights()"
   ]
  },
  {
   "cell_type": "code",
   "execution_count": null,
   "metadata": {},
   "outputs": [],
   "source": [
    "#np.savetxt('weight_layer1.txt', frd_1[0], fmt='%f')\n",
    "#np.savetxt('bias_layer1.txt', frd_1[1], fmt='%f')\n",
    "#np.savetxt('weight_layer2.txt', frd_2[0], fmt='%f')\n",
    "#np.savetxt('bias_layer2.txt', frd_2[1], fmt='%f')\n",
    "#np.savetxt('weight_layer3.txt', frd_3[0], fmt='%f')\n",
    "#np.savetxt('bias_layer3.txt', frd_3[1], fmt='%f')\n",
    "#np.savetxt('weight_layer4.txt', frd_4[0], fmt='%f')\n",
    "#np.savetxt('bias_layer4.txt', frd_4[1], fmt='%f')"
   ]
  },
  {
   "cell_type": "code",
   "execution_count": null,
   "metadata": {},
   "outputs": [],
   "source": [
    "plt.figure(figsize = (10,8))\n",
    "plt.scatter(y_eval.values,y_pred, color = 'blue')\n",
    "plt.plot(y_eval.values, y_eval.values,color = 'red',linewidth = 3.0)\n",
    "plt.xlim((20,130))\n",
    "plt.ylim((20,130))\n",
    "plt.show()"
   ]
  },
  {
   "cell_type": "code",
   "execution_count": null,
   "metadata": {
    "scrolled": true
   },
   "outputs": [],
   "source": [
    "plt.figure(figsize = (10,8))\n",
    "n, bins, patches = plt.hist(x=y_eval.values, bins=20, color='#0504aa',alpha=0.7, rwidth=0.85)\n",
    "plt.grid(axis='y', alpha=0.75)\n",
    "maxfreq = n.max()\n",
    "# Set a clean upper y-axis limit.\n",
    "plt.ylim(ymax=np.ceil(maxfreq / 10) * 10 if maxfreq % 10 else maxfreq + 10)\n",
    "plt.ylim(0,3000)"
   ]
  },
  {
   "cell_type": "code",
   "execution_count": null,
   "metadata": {},
   "outputs": [],
   "source": [
    "plt.figure(figsize = (10,8))\n",
    "n, bins, patches = plt.hist(x=deformation, bins=20, color='#0504aa',alpha=0.7, rwidth=0.85)\n",
    "plt.grid(axis='y', alpha=0.75)\n",
    "maxfreq = n.max()\n",
    "# Set a clean upper y-axis limit.\n",
    "plt.ylim(ymax=np.ceil(maxfreq / 10) * 10 if maxfreq % 10 else maxfreq + 10)\n",
    "plt.ylim(0,12000)"
   ]
  },
  {
   "cell_type": "code",
   "execution_count": null,
   "metadata": {},
   "outputs": [],
   "source": []
  }
 ],
 "metadata": {
  "kernelspec": {
   "display_name": "Python 3 (ipykernel)",
   "language": "python",
   "name": "python3"
  },
  "language_info": {
   "codemirror_mode": {
    "name": "ipython",
    "version": 3
   },
   "file_extension": ".py",
   "mimetype": "text/x-python",
   "name": "python",
   "nbconvert_exporter": "python",
   "pygments_lexer": "ipython3",
   "version": "3.9.12"
  }
 },
 "nbformat": 4,
 "nbformat_minor": 4
}
