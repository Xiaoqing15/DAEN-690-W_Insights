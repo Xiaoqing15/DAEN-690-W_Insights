{
 "cells": [
  {
   "cell_type": "code",
   "execution_count": 1,
   "metadata": {},
   "outputs": [],
   "source": [
    "reset -f"
   ]
  },
  {
   "cell_type": "code",
   "execution_count": 2,
   "metadata": {},
   "outputs": [
    {
     "name": "stderr",
     "output_type": "stream",
     "text": [
      "2023-11-19 16:13:16.349233: I tensorflow/core/platform/cpu_feature_guard.cc:182] This TensorFlow binary is optimized to use available CPU instructions in performance-critical operations.\n",
      "To enable the following instructions: AVX2 FMA, in other operations, rebuild TensorFlow with the appropriate compiler flags.\n"
     ]
    }
   ],
   "source": [
    "import keras\n",
    "import tensorflow as tf\n",
    "import numpy as np\n",
    "import pandas as pd\n",
    "import matplotlib.pyplot as plt\n",
    "from sklearn.model_selection import train_test_split\n",
    "from sklearn.preprocessing import StandardScaler\n",
    "from sklearn.metrics import mean_squared_error\n",
    "from keras import regularizers\n",
    "import os\n",
    "import math"
   ]
  },
  {
   "cell_type": "code",
   "execution_count": 3,
   "metadata": {},
   "outputs": [],
   "source": [
    "from keras.models import Sequential\n",
    "from keras.layers import Dense\n",
    "from keras.layers import Dropout"
   ]
  },
  {
   "cell_type": "code",
   "execution_count": 4,
   "metadata": {},
   "outputs": [
    {
     "name": "stdout",
     "output_type": "stream",
     "text": [
      "/Users/amber/Documents/DAEN-690/dataset\n"
     ]
    }
   ],
   "source": [
    "print(format(os.getcwd()))"
   ]
  },
  {
   "cell_type": "code",
   "execution_count": 5,
   "metadata": {},
   "outputs": [
    {
     "name": "stdout",
     "output_type": "stream",
     "text": [
      "         EventID  FinalIncidentType  FinalEMScategory  calltime  \\\n",
      "0       12359126                  2                 2  0.002535   \n",
      "1       12359150                  1                 1  0.008275   \n",
      "2       12359162                  2                 2  0.010382   \n",
      "3       12359162                  2                 2  0.010382   \n",
      "4       12359066                  1                 1  0.022454   \n",
      "...          ...                ...               ...       ...   \n",
      "302199  14965991                  2                 2  0.265914   \n",
      "302200  14966013                  1                 1  0.272037   \n",
      "302201  14966013                  1                 1  0.272037   \n",
      "302202  14966018                  1                 1  0.273380   \n",
      "302203  14966018                  1                 1  0.273380   \n",
      "\n",
      "        call_processing_time  travel_time  station_coord_x  station_coord_y  \\\n",
      "0                         85          352           94.982           553.01   \n",
      "1                        113          292          288.980           818.70   \n",
      "2                        131          188          831.600           648.61   \n",
      "3                        131          190          831.600           648.61   \n",
      "4                         36          205          187.760           852.44   \n",
      "...                      ...          ...              ...              ...   \n",
      "302199                   180          302          705.080           114.42   \n",
      "302200                    98          314          705.080           114.42   \n",
      "302201                    98          371          705.080           114.42   \n",
      "302202                    87          211          828.780           242.34   \n",
      "302203                    87          247          828.780           242.34   \n",
      "\n",
      "        incident_amount  unit_coord_x  unit_coord_y  unit_type  response_time  \\\n",
      "0                  4038        94.982        553.01          2            502   \n",
      "1                  4651       383.160        898.83          2            299   \n",
      "2                  4878       831.600        648.61          1            413   \n",
      "3                  4878       831.600        648.61          2            413   \n",
      "4                  4956       288.980        818.70          1            351   \n",
      "...                 ...           ...           ...        ...            ...   \n",
      "302199             6719       930.000        177.68          3            593   \n",
      "302200             6719       705.080        114.42          1            524   \n",
      "302201             6719       705.080        114.42          2            524   \n",
      "302202             3101       828.780        242.34          1            385   \n",
      "302203             3101       828.780        242.34          2            385   \n",
      "\n",
      "        response_time_for_unit  \n",
      "0                          501  \n",
      "1                          439  \n",
      "2                          414  \n",
      "3                          412  \n",
      "4                          351  \n",
      "...                        ...  \n",
      "302199                     593  \n",
      "302200                     553  \n",
      "302201                     524  \n",
      "302202                     385  \n",
      "302203                     418  \n",
      "\n",
      "[302204 rows x 14 columns]\n",
      "Index(['EventID', 'FinalIncidentType', 'FinalEMScategory', 'calltime',\n",
      "       'call_processing_time', 'travel_time', 'station_coord_x',\n",
      "       'station_coord_y', 'incident_amount', 'unit_coord_x', 'unit_coord_y',\n",
      "       'unit_type', 'response_time', 'response_time_for_unit'],\n",
      "      dtype='object')\n"
     ]
    }
   ],
   "source": [
    "path_to_file = '/Users/amber/Documents/DAEN-690/dataset/data_dnn/train_data_for_dnn_new.csv'\n",
    "df = pd.read_csv(path_to_file, encoding = \"ISO-8859-1\",header=0, index_col=False)\n",
    "print(df)\n",
    "print(df.columns)"
   ]
  },
  {
   "cell_type": "code",
   "execution_count": 6,
   "metadata": {},
   "outputs": [
    {
     "name": "stdout",
     "output_type": "stream",
     "text": [
      "<class 'pandas.core.series.Series'>\n"
     ]
    }
   ],
   "source": [
    "print(type(df['travel_time']))"
   ]
  },
  {
   "cell_type": "code",
   "execution_count": 7,
   "metadata": {},
   "outputs": [],
   "source": [
    "# One-Hot Encoding for 'FinalIncidentType', 'FinalEMScategory' and 'unit_type'\n",
    "df_encode = pd.get_dummies(df, columns=['FinalIncidentType','FinalEMScategory', 'unit_type'], drop_first=True)"
   ]
  },
  {
   "cell_type": "code",
   "execution_count": 8,
   "metadata": {},
   "outputs": [
    {
     "data": {
      "text/html": [
       "<div>\n",
       "<style scoped>\n",
       "    .dataframe tbody tr th:only-of-type {\n",
       "        vertical-align: middle;\n",
       "    }\n",
       "\n",
       "    .dataframe tbody tr th {\n",
       "        vertical-align: top;\n",
       "    }\n",
       "\n",
       "    .dataframe thead th {\n",
       "        text-align: right;\n",
       "    }\n",
       "</style>\n",
       "<table border=\"1\" class=\"dataframe\">\n",
       "  <thead>\n",
       "    <tr style=\"text-align: right;\">\n",
       "      <th></th>\n",
       "      <th>EventID</th>\n",
       "      <th>calltime</th>\n",
       "      <th>call_processing_time</th>\n",
       "      <th>travel_time</th>\n",
       "      <th>station_coord_x</th>\n",
       "      <th>station_coord_y</th>\n",
       "      <th>incident_amount</th>\n",
       "      <th>unit_coord_x</th>\n",
       "      <th>unit_coord_y</th>\n",
       "      <th>response_time</th>\n",
       "      <th>response_time_for_unit</th>\n",
       "      <th>FinalIncidentType_2</th>\n",
       "      <th>FinalIncidentType_3</th>\n",
       "      <th>FinalIncidentType_4</th>\n",
       "      <th>FinalIncidentType_5</th>\n",
       "      <th>FinalIncidentType_6</th>\n",
       "      <th>FinalEMScategory_2</th>\n",
       "      <th>unit_type_2</th>\n",
       "      <th>unit_type_3</th>\n",
       "      <th>unit_type_4</th>\n",
       "    </tr>\n",
       "  </thead>\n",
       "  <tbody>\n",
       "    <tr>\n",
       "      <th>0</th>\n",
       "      <td>12359126</td>\n",
       "      <td>0.002535</td>\n",
       "      <td>85</td>\n",
       "      <td>352</td>\n",
       "      <td>94.982</td>\n",
       "      <td>553.01</td>\n",
       "      <td>4038</td>\n",
       "      <td>94.982</td>\n",
       "      <td>553.01</td>\n",
       "      <td>502</td>\n",
       "      <td>501</td>\n",
       "      <td>True</td>\n",
       "      <td>False</td>\n",
       "      <td>False</td>\n",
       "      <td>False</td>\n",
       "      <td>False</td>\n",
       "      <td>True</td>\n",
       "      <td>True</td>\n",
       "      <td>False</td>\n",
       "      <td>False</td>\n",
       "    </tr>\n",
       "    <tr>\n",
       "      <th>1</th>\n",
       "      <td>12359150</td>\n",
       "      <td>0.008275</td>\n",
       "      <td>113</td>\n",
       "      <td>292</td>\n",
       "      <td>288.980</td>\n",
       "      <td>818.70</td>\n",
       "      <td>4651</td>\n",
       "      <td>383.160</td>\n",
       "      <td>898.83</td>\n",
       "      <td>299</td>\n",
       "      <td>439</td>\n",
       "      <td>False</td>\n",
       "      <td>False</td>\n",
       "      <td>False</td>\n",
       "      <td>False</td>\n",
       "      <td>False</td>\n",
       "      <td>False</td>\n",
       "      <td>True</td>\n",
       "      <td>False</td>\n",
       "      <td>False</td>\n",
       "    </tr>\n",
       "    <tr>\n",
       "      <th>2</th>\n",
       "      <td>12359162</td>\n",
       "      <td>0.010382</td>\n",
       "      <td>131</td>\n",
       "      <td>188</td>\n",
       "      <td>831.600</td>\n",
       "      <td>648.61</td>\n",
       "      <td>4878</td>\n",
       "      <td>831.600</td>\n",
       "      <td>648.61</td>\n",
       "      <td>413</td>\n",
       "      <td>414</td>\n",
       "      <td>True</td>\n",
       "      <td>False</td>\n",
       "      <td>False</td>\n",
       "      <td>False</td>\n",
       "      <td>False</td>\n",
       "      <td>True</td>\n",
       "      <td>False</td>\n",
       "      <td>False</td>\n",
       "      <td>False</td>\n",
       "    </tr>\n",
       "    <tr>\n",
       "      <th>3</th>\n",
       "      <td>12359162</td>\n",
       "      <td>0.010382</td>\n",
       "      <td>131</td>\n",
       "      <td>190</td>\n",
       "      <td>831.600</td>\n",
       "      <td>648.61</td>\n",
       "      <td>4878</td>\n",
       "      <td>831.600</td>\n",
       "      <td>648.61</td>\n",
       "      <td>413</td>\n",
       "      <td>412</td>\n",
       "      <td>True</td>\n",
       "      <td>False</td>\n",
       "      <td>False</td>\n",
       "      <td>False</td>\n",
       "      <td>False</td>\n",
       "      <td>True</td>\n",
       "      <td>True</td>\n",
       "      <td>False</td>\n",
       "      <td>False</td>\n",
       "    </tr>\n",
       "    <tr>\n",
       "      <th>4</th>\n",
       "      <td>12359066</td>\n",
       "      <td>0.022454</td>\n",
       "      <td>36</td>\n",
       "      <td>205</td>\n",
       "      <td>187.760</td>\n",
       "      <td>852.44</td>\n",
       "      <td>4956</td>\n",
       "      <td>288.980</td>\n",
       "      <td>818.70</td>\n",
       "      <td>351</td>\n",
       "      <td>351</td>\n",
       "      <td>False</td>\n",
       "      <td>False</td>\n",
       "      <td>False</td>\n",
       "      <td>False</td>\n",
       "      <td>False</td>\n",
       "      <td>False</td>\n",
       "      <td>False</td>\n",
       "      <td>False</td>\n",
       "      <td>False</td>\n",
       "    </tr>\n",
       "    <tr>\n",
       "      <th>...</th>\n",
       "      <td>...</td>\n",
       "      <td>...</td>\n",
       "      <td>...</td>\n",
       "      <td>...</td>\n",
       "      <td>...</td>\n",
       "      <td>...</td>\n",
       "      <td>...</td>\n",
       "      <td>...</td>\n",
       "      <td>...</td>\n",
       "      <td>...</td>\n",
       "      <td>...</td>\n",
       "      <td>...</td>\n",
       "      <td>...</td>\n",
       "      <td>...</td>\n",
       "      <td>...</td>\n",
       "      <td>...</td>\n",
       "      <td>...</td>\n",
       "      <td>...</td>\n",
       "      <td>...</td>\n",
       "      <td>...</td>\n",
       "    </tr>\n",
       "    <tr>\n",
       "      <th>302199</th>\n",
       "      <td>14965991</td>\n",
       "      <td>0.265914</td>\n",
       "      <td>180</td>\n",
       "      <td>302</td>\n",
       "      <td>705.080</td>\n",
       "      <td>114.42</td>\n",
       "      <td>6719</td>\n",
       "      <td>930.000</td>\n",
       "      <td>177.68</td>\n",
       "      <td>593</td>\n",
       "      <td>593</td>\n",
       "      <td>True</td>\n",
       "      <td>False</td>\n",
       "      <td>False</td>\n",
       "      <td>False</td>\n",
       "      <td>False</td>\n",
       "      <td>True</td>\n",
       "      <td>False</td>\n",
       "      <td>True</td>\n",
       "      <td>False</td>\n",
       "    </tr>\n",
       "    <tr>\n",
       "      <th>302200</th>\n",
       "      <td>14966013</td>\n",
       "      <td>0.272037</td>\n",
       "      <td>98</td>\n",
       "      <td>314</td>\n",
       "      <td>705.080</td>\n",
       "      <td>114.42</td>\n",
       "      <td>6719</td>\n",
       "      <td>705.080</td>\n",
       "      <td>114.42</td>\n",
       "      <td>524</td>\n",
       "      <td>553</td>\n",
       "      <td>False</td>\n",
       "      <td>False</td>\n",
       "      <td>False</td>\n",
       "      <td>False</td>\n",
       "      <td>False</td>\n",
       "      <td>False</td>\n",
       "      <td>False</td>\n",
       "      <td>False</td>\n",
       "      <td>False</td>\n",
       "    </tr>\n",
       "    <tr>\n",
       "      <th>302201</th>\n",
       "      <td>14966013</td>\n",
       "      <td>0.272037</td>\n",
       "      <td>98</td>\n",
       "      <td>371</td>\n",
       "      <td>705.080</td>\n",
       "      <td>114.42</td>\n",
       "      <td>6719</td>\n",
       "      <td>705.080</td>\n",
       "      <td>114.42</td>\n",
       "      <td>524</td>\n",
       "      <td>524</td>\n",
       "      <td>False</td>\n",
       "      <td>False</td>\n",
       "      <td>False</td>\n",
       "      <td>False</td>\n",
       "      <td>False</td>\n",
       "      <td>False</td>\n",
       "      <td>True</td>\n",
       "      <td>False</td>\n",
       "      <td>False</td>\n",
       "    </tr>\n",
       "    <tr>\n",
       "      <th>302202</th>\n",
       "      <td>14966018</td>\n",
       "      <td>0.273380</td>\n",
       "      <td>87</td>\n",
       "      <td>211</td>\n",
       "      <td>828.780</td>\n",
       "      <td>242.34</td>\n",
       "      <td>3101</td>\n",
       "      <td>828.780</td>\n",
       "      <td>242.34</td>\n",
       "      <td>385</td>\n",
       "      <td>385</td>\n",
       "      <td>False</td>\n",
       "      <td>False</td>\n",
       "      <td>False</td>\n",
       "      <td>False</td>\n",
       "      <td>False</td>\n",
       "      <td>False</td>\n",
       "      <td>False</td>\n",
       "      <td>False</td>\n",
       "      <td>False</td>\n",
       "    </tr>\n",
       "    <tr>\n",
       "      <th>302203</th>\n",
       "      <td>14966018</td>\n",
       "      <td>0.273380</td>\n",
       "      <td>87</td>\n",
       "      <td>247</td>\n",
       "      <td>828.780</td>\n",
       "      <td>242.34</td>\n",
       "      <td>3101</td>\n",
       "      <td>828.780</td>\n",
       "      <td>242.34</td>\n",
       "      <td>385</td>\n",
       "      <td>418</td>\n",
       "      <td>False</td>\n",
       "      <td>False</td>\n",
       "      <td>False</td>\n",
       "      <td>False</td>\n",
       "      <td>False</td>\n",
       "      <td>False</td>\n",
       "      <td>True</td>\n",
       "      <td>False</td>\n",
       "      <td>False</td>\n",
       "    </tr>\n",
       "  </tbody>\n",
       "</table>\n",
       "<p>302204 rows × 20 columns</p>\n",
       "</div>"
      ],
      "text/plain": [
       "         EventID  calltime  call_processing_time  travel_time  \\\n",
       "0       12359126  0.002535                    85          352   \n",
       "1       12359150  0.008275                   113          292   \n",
       "2       12359162  0.010382                   131          188   \n",
       "3       12359162  0.010382                   131          190   \n",
       "4       12359066  0.022454                    36          205   \n",
       "...          ...       ...                   ...          ...   \n",
       "302199  14965991  0.265914                   180          302   \n",
       "302200  14966013  0.272037                    98          314   \n",
       "302201  14966013  0.272037                    98          371   \n",
       "302202  14966018  0.273380                    87          211   \n",
       "302203  14966018  0.273380                    87          247   \n",
       "\n",
       "        station_coord_x  station_coord_y  incident_amount  unit_coord_x  \\\n",
       "0                94.982           553.01             4038        94.982   \n",
       "1               288.980           818.70             4651       383.160   \n",
       "2               831.600           648.61             4878       831.600   \n",
       "3               831.600           648.61             4878       831.600   \n",
       "4               187.760           852.44             4956       288.980   \n",
       "...                 ...              ...              ...           ...   \n",
       "302199          705.080           114.42             6719       930.000   \n",
       "302200          705.080           114.42             6719       705.080   \n",
       "302201          705.080           114.42             6719       705.080   \n",
       "302202          828.780           242.34             3101       828.780   \n",
       "302203          828.780           242.34             3101       828.780   \n",
       "\n",
       "        unit_coord_y  response_time  response_time_for_unit  \\\n",
       "0             553.01            502                     501   \n",
       "1             898.83            299                     439   \n",
       "2             648.61            413                     414   \n",
       "3             648.61            413                     412   \n",
       "4             818.70            351                     351   \n",
       "...              ...            ...                     ...   \n",
       "302199        177.68            593                     593   \n",
       "302200        114.42            524                     553   \n",
       "302201        114.42            524                     524   \n",
       "302202        242.34            385                     385   \n",
       "302203        242.34            385                     418   \n",
       "\n",
       "        FinalIncidentType_2  FinalIncidentType_3  FinalIncidentType_4  \\\n",
       "0                      True                False                False   \n",
       "1                     False                False                False   \n",
       "2                      True                False                False   \n",
       "3                      True                False                False   \n",
       "4                     False                False                False   \n",
       "...                     ...                  ...                  ...   \n",
       "302199                 True                False                False   \n",
       "302200                False                False                False   \n",
       "302201                False                False                False   \n",
       "302202                False                False                False   \n",
       "302203                False                False                False   \n",
       "\n",
       "        FinalIncidentType_5  FinalIncidentType_6  FinalEMScategory_2  \\\n",
       "0                     False                False                True   \n",
       "1                     False                False               False   \n",
       "2                     False                False                True   \n",
       "3                     False                False                True   \n",
       "4                     False                False               False   \n",
       "...                     ...                  ...                 ...   \n",
       "302199                False                False                True   \n",
       "302200                False                False               False   \n",
       "302201                False                False               False   \n",
       "302202                False                False               False   \n",
       "302203                False                False               False   \n",
       "\n",
       "        unit_type_2  unit_type_3  unit_type_4  \n",
       "0              True        False        False  \n",
       "1              True        False        False  \n",
       "2             False        False        False  \n",
       "3              True        False        False  \n",
       "4             False        False        False  \n",
       "...             ...          ...          ...  \n",
       "302199        False         True        False  \n",
       "302200        False        False        False  \n",
       "302201         True        False        False  \n",
       "302202        False        False        False  \n",
       "302203         True        False        False  \n",
       "\n",
       "[302204 rows x 20 columns]"
      ]
     },
     "execution_count": 8,
     "metadata": {},
     "output_type": "execute_result"
    }
   ],
   "source": [
    "df_encode\n",
    "#df_encode.to_csv(\"/Users/amber/Documents/DAEN-690/dataset/data_dnn/df1_encode.csv\", index=False)"
   ]
  },
  {
   "cell_type": "code",
   "execution_count": 9,
   "metadata": {},
   "outputs": [
    {
     "name": "stdout",
     "output_type": "stream",
     "text": [
      "         EventID  calltime  call_processing_time  travel_time  \\\n",
      "0       12359126  0.002535                    85          352   \n",
      "1       12359150  0.008275                   113          292   \n",
      "2       12359162  0.010382                   131          188   \n",
      "3       12359162  0.010382                   131          190   \n",
      "4       12359066  0.022454                    36          205   \n",
      "...          ...       ...                   ...          ...   \n",
      "302199  14965991  0.265914                   180          302   \n",
      "302200  14966013  0.272037                    98          314   \n",
      "302201  14966013  0.272037                    98          371   \n",
      "302202  14966018  0.273380                    87          211   \n",
      "302203  14966018  0.273380                    87          247   \n",
      "\n",
      "        station_coord_x  station_coord_y  incident_amount  unit_coord_x  \\\n",
      "0                94.982           553.01             4038        94.982   \n",
      "1               288.980           818.70             4651       383.160   \n",
      "2               831.600           648.61             4878       831.600   \n",
      "3               831.600           648.61             4878       831.600   \n",
      "4               187.760           852.44             4956       288.980   \n",
      "...                 ...              ...              ...           ...   \n",
      "302199          705.080           114.42             6719       930.000   \n",
      "302200          705.080           114.42             6719       705.080   \n",
      "302201          705.080           114.42             6719       705.080   \n",
      "302202          828.780           242.34             3101       828.780   \n",
      "302203          828.780           242.34             3101       828.780   \n",
      "\n",
      "        unit_coord_y  FinalIncidentType_Medical  FinalIncidentType_ACCIF  \\\n",
      "0             553.01                          1                        0   \n",
      "1             898.83                          0                        0   \n",
      "2             648.61                          1                        0   \n",
      "3             648.61                          1                        0   \n",
      "4             818.70                          0                        0   \n",
      "...              ...                        ...                      ...   \n",
      "302199        177.68                          1                        0   \n",
      "302200        114.42                          0                        0   \n",
      "302201        114.42                          0                        0   \n",
      "302202        242.34                          0                        0   \n",
      "302203        242.34                          0                        0   \n",
      "\n",
      "        FinalIncidentType_ODF  FinalIncidentType_CPRF  \\\n",
      "0                           0                       0   \n",
      "1                           0                       0   \n",
      "2                           0                       0   \n",
      "3                           0                       0   \n",
      "4                           0                       0   \n",
      "...                       ...                     ...   \n",
      "302199                      0                       0   \n",
      "302200                      0                       0   \n",
      "302201                      0                       0   \n",
      "302202                      0                       0   \n",
      "302203                      0                       0   \n",
      "\n",
      "        FinalIncidentType_Others  FinalEMScategory_B  unit_type_ALS  \\\n",
      "0                              0                   1              1   \n",
      "1                              0                   0              1   \n",
      "2                              0                   1              0   \n",
      "3                              0                   1              1   \n",
      "4                              0                   0              0   \n",
      "...                          ...                 ...            ...   \n",
      "302199                         0                   1              0   \n",
      "302200                         0                   0              0   \n",
      "302201                         0                   0              1   \n",
      "302202                         0                   0              0   \n",
      "302203                         0                   0              1   \n",
      "\n",
      "        unit_type_BLS  unit_type_Rescue  response_time  response_time_for_unit  \n",
      "0                   0                 0            502                     501  \n",
      "1                   0                 0            299                     439  \n",
      "2                   0                 0            413                     414  \n",
      "3                   0                 0            413                     412  \n",
      "4                   0                 0            351                     351  \n",
      "...               ...               ...            ...                     ...  \n",
      "302199              1                 0            593                     593  \n",
      "302200              0                 0            524                     553  \n",
      "302201              0                 0            524                     524  \n",
      "302202              0                 0            385                     385  \n",
      "302203              0                 0            385                     418  \n",
      "\n",
      "[302204 rows x 20 columns]\n",
      "Index(['EventID', 'calltime', 'call_processing_time', 'travel_time',\n",
      "       'station_coord_x', 'station_coord_y', 'incident_amount', 'unit_coord_x',\n",
      "       'unit_coord_y', 'FinalIncidentType_Medical', 'FinalIncidentType_ACCIF',\n",
      "       'FinalIncidentType_ODF', 'FinalIncidentType_CPRF',\n",
      "       'FinalIncidentType_Others', 'FinalEMScategory_B', 'unit_type_ALS',\n",
      "       'unit_type_BLS', 'unit_type_Rescue', 'response_time',\n",
      "       'response_time_for_unit'],\n",
      "      dtype='object')\n"
     ]
    }
   ],
   "source": [
    "df1 = pd.read_csv(\"/Users/amber/Documents/DAEN-690/dataset/data_dnn/df1_encode.csv\", encoding = \"ISO-8859-1\",header=0, index_col=False)\n",
    "print(df1)\n",
    "print(df1.columns)"
   ]
  },
  {
   "cell_type": "code",
   "execution_count": 10,
   "metadata": {},
   "outputs": [],
   "source": [
    "deformation = df1.iloc[:,-1]/10"
   ]
  },
  {
   "cell_type": "code",
   "execution_count": 11,
   "metadata": {},
   "outputs": [
    {
     "name": "stdout",
     "output_type": "stream",
     "text": [
      "Index(['calltime', 'call_processing_time', 'travel_time', 'station_coord_x',\n",
      "       'station_coord_y', 'incident_amount', 'unit_coord_x', 'unit_coord_y',\n",
      "       'FinalIncidentType_Medical', 'FinalIncidentType_ACCIF',\n",
      "       'FinalIncidentType_ODF', 'FinalIncidentType_CPRF',\n",
      "       'FinalIncidentType_Others', 'FinalEMScategory_B', 'unit_type_ALS',\n",
      "       'unit_type_BLS', 'unit_type_Rescue'],\n",
      "      dtype='object')\n"
     ]
    }
   ],
   "source": [
    "x_data = df1.iloc[:,df1.columns != 'response_time_for_unit']\n",
    "#x_data = x_data.iloc[:,x_data.columns != 'FinalIncidentType']\n",
    "x_data = x_data.iloc[:,x_data.columns != 'EventID']\n",
    "#x_data = x_data.iloc[:,x_data.columns != 'unit_coord_y']\n",
    "#x_data = x_data.iloc[:,x_data.columns != 'incident_duration']\n",
    "x_data = x_data.iloc[:,x_data.columns != 'response_time']\n",
    "\n",
    "print(x_data.columns)"
   ]
  },
  {
   "cell_type": "code",
   "execution_count": 12,
   "metadata": {},
   "outputs": [
    {
     "name": "stdout",
     "output_type": "stream",
     "text": [
      "(302204, 17)\n"
     ]
    }
   ],
   "source": [
    "print(x_data.shape)"
   ]
  },
  {
   "cell_type": "code",
   "execution_count": 13,
   "metadata": {},
   "outputs": [],
   "source": [
    "cols = []\n",
    "count = 1\n",
    "for column in x_data.columns:\n",
    "    cols.append(f'Number_{count}')\n",
    "    count = count + 1\n",
    "    continue\n",
    "\n",
    "x_data.columns = cols"
   ]
  },
  {
   "cell_type": "code",
   "execution_count": 14,
   "metadata": {},
   "outputs": [
    {
     "name": "stdout",
     "output_type": "stream",
     "text": [
      "WARNING:tensorflow:From /var/folders/lx/135fwshx6qv4ssbwdkpzfhp00000gn/T/ipykernel_15958/521956788.py:4: numeric_column (from tensorflow.python.feature_column.feature_column_v2) is deprecated and will be removed in a future version.\n",
      "Instructions for updating:\n",
      "Use Keras preprocessing layers instead, either directly or via the `tf.keras.utils.FeatureSpace` utility. Each of `tf.feature_column.*` has a functional equivalent in `tf.keras.layers` for feature preprocessing when training a Keras model.\n",
      "<class 'list'>\n"
     ]
    }
   ],
   "source": [
    "#Creating Feature Columns\n",
    "feat_cols=[]\n",
    "for cols in x_data.columns:\n",
    "    column= tf.feature_column.numeric_column(cols)\n",
    "    feat_cols.append(column)\n",
    "    \n",
    "#print(feat_cols)\n",
    "print(type(feat_cols))"
   ]
  },
  {
   "cell_type": "code",
   "execution_count": 15,
   "metadata": {},
   "outputs": [
    {
     "name": "stderr",
     "output_type": "stream",
     "text": [
      "/Users/amber/opt/anaconda3/lib/python3.9/site-packages/sklearn/utils/validation.py:767: FutureWarning: is_sparse is deprecated and will be removed in a future version. Check `isinstance(dtype, pd.SparseDtype)` instead.\n",
      "  if not hasattr(array, \"sparse\") and array.dtypes.apply(is_sparse).any():\n",
      "/Users/amber/opt/anaconda3/lib/python3.9/site-packages/sklearn/utils/validation.py:605: FutureWarning: is_sparse is deprecated and will be removed in a future version. Check `isinstance(dtype, pd.SparseDtype)` instead.\n",
      "  if is_sparse(pd_dtype):\n",
      "/Users/amber/opt/anaconda3/lib/python3.9/site-packages/sklearn/utils/validation.py:614: FutureWarning: is_sparse is deprecated and will be removed in a future version. Check `isinstance(dtype, pd.SparseDtype)` instead.\n",
      "  if is_sparse(pd_dtype) or not is_extension_array_dtype(pd_dtype):\n"
     ]
    },
    {
     "data": {
      "text/html": [
       "<style>#sk-container-id-1 {color: black;background-color: white;}#sk-container-id-1 pre{padding: 0;}#sk-container-id-1 div.sk-toggleable {background-color: white;}#sk-container-id-1 label.sk-toggleable__label {cursor: pointer;display: block;width: 100%;margin-bottom: 0;padding: 0.3em;box-sizing: border-box;text-align: center;}#sk-container-id-1 label.sk-toggleable__label-arrow:before {content: \"▸\";float: left;margin-right: 0.25em;color: #696969;}#sk-container-id-1 label.sk-toggleable__label-arrow:hover:before {color: black;}#sk-container-id-1 div.sk-estimator:hover label.sk-toggleable__label-arrow:before {color: black;}#sk-container-id-1 div.sk-toggleable__content {max-height: 0;max-width: 0;overflow: hidden;text-align: left;background-color: #f0f8ff;}#sk-container-id-1 div.sk-toggleable__content pre {margin: 0.2em;color: black;border-radius: 0.25em;background-color: #f0f8ff;}#sk-container-id-1 input.sk-toggleable__control:checked~div.sk-toggleable__content {max-height: 200px;max-width: 100%;overflow: auto;}#sk-container-id-1 input.sk-toggleable__control:checked~label.sk-toggleable__label-arrow:before {content: \"▾\";}#sk-container-id-1 div.sk-estimator input.sk-toggleable__control:checked~label.sk-toggleable__label {background-color: #d4ebff;}#sk-container-id-1 div.sk-label input.sk-toggleable__control:checked~label.sk-toggleable__label {background-color: #d4ebff;}#sk-container-id-1 input.sk-hidden--visually {border: 0;clip: rect(1px 1px 1px 1px);clip: rect(1px, 1px, 1px, 1px);height: 1px;margin: -1px;overflow: hidden;padding: 0;position: absolute;width: 1px;}#sk-container-id-1 div.sk-estimator {font-family: monospace;background-color: #f0f8ff;border: 1px dotted black;border-radius: 0.25em;box-sizing: border-box;margin-bottom: 0.5em;}#sk-container-id-1 div.sk-estimator:hover {background-color: #d4ebff;}#sk-container-id-1 div.sk-parallel-item::after {content: \"\";width: 100%;border-bottom: 1px solid gray;flex-grow: 1;}#sk-container-id-1 div.sk-label:hover label.sk-toggleable__label {background-color: #d4ebff;}#sk-container-id-1 div.sk-serial::before {content: \"\";position: absolute;border-left: 1px solid gray;box-sizing: border-box;top: 0;bottom: 0;left: 50%;z-index: 0;}#sk-container-id-1 div.sk-serial {display: flex;flex-direction: column;align-items: center;background-color: white;padding-right: 0.2em;padding-left: 0.2em;position: relative;}#sk-container-id-1 div.sk-item {position: relative;z-index: 1;}#sk-container-id-1 div.sk-parallel {display: flex;align-items: stretch;justify-content: center;background-color: white;position: relative;}#sk-container-id-1 div.sk-item::before, #sk-container-id-1 div.sk-parallel-item::before {content: \"\";position: absolute;border-left: 1px solid gray;box-sizing: border-box;top: 0;bottom: 0;left: 50%;z-index: -1;}#sk-container-id-1 div.sk-parallel-item {display: flex;flex-direction: column;z-index: 1;position: relative;background-color: white;}#sk-container-id-1 div.sk-parallel-item:first-child::after {align-self: flex-end;width: 50%;}#sk-container-id-1 div.sk-parallel-item:last-child::after {align-self: flex-start;width: 50%;}#sk-container-id-1 div.sk-parallel-item:only-child::after {width: 0;}#sk-container-id-1 div.sk-dashed-wrapped {border: 1px dashed gray;margin: 0 0.4em 0.5em 0.4em;box-sizing: border-box;padding-bottom: 0.4em;background-color: white;}#sk-container-id-1 div.sk-label label {font-family: monospace;font-weight: bold;display: inline-block;line-height: 1.2em;}#sk-container-id-1 div.sk-label-container {text-align: center;}#sk-container-id-1 div.sk-container {/* jupyter's `normalize.less` sets `[hidden] { display: none; }` but bootstrap.min.css set `[hidden] { display: none !important; }` so we also need the `!important` here to be able to override the default hidden behavior on the sphinx rendered scikit-learn.org. See: https://github.com/scikit-learn/scikit-learn/issues/21755 */display: inline-block !important;position: relative;}#sk-container-id-1 div.sk-text-repr-fallback {display: none;}</style><div id=\"sk-container-id-1\" class=\"sk-top-container\"><div class=\"sk-text-repr-fallback\"><pre>MinMaxScaler()</pre><b>In a Jupyter environment, please rerun this cell to show the HTML representation or trust the notebook. <br />On GitHub, the HTML representation is unable to render, please try loading this page with nbviewer.org.</b></div><div class=\"sk-container\" hidden><div class=\"sk-item\"><div class=\"sk-estimator sk-toggleable\"><input class=\"sk-toggleable__control sk-hidden--visually\" id=\"sk-estimator-id-1\" type=\"checkbox\" checked><label for=\"sk-estimator-id-1\" class=\"sk-toggleable__label sk-toggleable__label-arrow\">MinMaxScaler</label><div class=\"sk-toggleable__content\"><pre>MinMaxScaler()</pre></div></div></div></div></div>"
      ],
      "text/plain": [
       "MinMaxScaler()"
      ]
     },
     "execution_count": 15,
     "metadata": {},
     "output_type": "execute_result"
    }
   ],
   "source": [
    "from sklearn.preprocessing import MinMaxScaler\n",
    "scaler_model = MinMaxScaler()\n",
    "scaler_model.fit(x_data)"
   ]
  },
  {
   "cell_type": "code",
   "execution_count": 16,
   "metadata": {},
   "outputs": [],
   "source": [
    "#np.savetxt('hxp_mean.txt', scaler_model.mean_, fmt='%2.5f')\n",
    "#np.savetxt('hxp_var.txt', scaler_model.var_, fmt='%2.5f')"
   ]
  },
  {
   "cell_type": "code",
   "execution_count": 17,
   "metadata": {},
   "outputs": [
    {
     "name": "stdout",
     "output_type": "stream",
     "text": [
      "        Number_1  Number_2  Number_3  Number_4  Number_5  Number_6  Number_7  \\\n",
      "145854  0.783426        88       369    740.22    631.74      5693    740.22   \n",
      "101062  0.367905       106       292   1034.00    245.15     10691   1034.00   \n",
      "288686  0.548079       119       178   1034.00    245.15     10691   1034.00   \n",
      "273287  0.397431       101       133    187.76    852.44      4956    187.76   \n",
      "253065  0.310093        51       239    533.58    919.92      1815    533.58   \n",
      "...          ...       ...       ...       ...       ...       ...       ...   \n",
      "243799  0.350648        82       339    861.12    364.64      6538    861.12   \n",
      "192059  0.793056       199       497    383.16    898.83      7350    383.16   \n",
      "279932  0.839826       165       253   1034.00    245.15     10691   1034.00   \n",
      "83116   0.346146        95       227    766.93    315.44      9909    766.93   \n",
      "280335  0.990521        74       583    312.87    571.29      4097    298.82   \n",
      "\n",
      "        Number_8  Number_9  Number_10  Number_11  Number_12  Number_13  \\\n",
      "145854    631.74         0          0          1          0          0   \n",
      "101062    245.15         1          0          0          0          0   \n",
      "288686    245.15         1          0          0          0          0   \n",
      "273287    852.44         0          0          0          0          1   \n",
      "253065    919.92         0          0          0          0          0   \n",
      "...          ...       ...        ...        ...        ...        ...   \n",
      "243799    364.64         0          0          0          0          0   \n",
      "192059    898.83         1          0          0          0          0   \n",
      "279932    245.15         0          0          1          0          0   \n",
      "83116     315.44         1          0          0          0          0   \n",
      "280335    644.39         0          0          0          0          0   \n",
      "\n",
      "        Number_14  Number_15  Number_16  Number_17  \n",
      "145854          0          0          0          0  \n",
      "101062          1          0          0          0  \n",
      "288686          1          0          0          0  \n",
      "273287          0          0          0          0  \n",
      "253065          0          1          0          0  \n",
      "...           ...        ...        ...        ...  \n",
      "243799          0          1          0          0  \n",
      "192059          1          0          1          0  \n",
      "279932          0          0          0          0  \n",
      "83116           1          1          0          0  \n",
      "280335          0          1          0          0  \n",
      "\n",
      "[75551 rows x 17 columns]\n",
      "145854    50.1\n",
      "101062    39.8\n",
      "288686    37.8\n",
      "273287    23.4\n",
      "253065    33.2\n",
      "          ... \n",
      "243799    50.4\n",
      "192059    75.0\n",
      "279932    49.7\n",
      "83116     34.5\n",
      "280335    73.6\n",
      "Name: response_time_for_unit, Length: 75551, dtype: float64\n"
     ]
    }
   ],
   "source": [
    "X_train, X_eval,y_train,y_eval=train_test_split(x_data,deformation,test_size=0.25,random_state=1)\n",
    "print(X_eval)\n",
    "print(y_eval)"
   ]
  },
  {
   "cell_type": "code",
   "execution_count": 18,
   "metadata": {},
   "outputs": [
    {
     "name": "stderr",
     "output_type": "stream",
     "text": [
      "/Users/amber/opt/anaconda3/lib/python3.9/site-packages/sklearn/utils/validation.py:767: FutureWarning: is_sparse is deprecated and will be removed in a future version. Check `isinstance(dtype, pd.SparseDtype)` instead.\n",
      "  if not hasattr(array, \"sparse\") and array.dtypes.apply(is_sparse).any():\n",
      "/Users/amber/opt/anaconda3/lib/python3.9/site-packages/sklearn/utils/validation.py:605: FutureWarning: is_sparse is deprecated and will be removed in a future version. Check `isinstance(dtype, pd.SparseDtype)` instead.\n",
      "  if is_sparse(pd_dtype):\n",
      "/Users/amber/opt/anaconda3/lib/python3.9/site-packages/sklearn/utils/validation.py:614: FutureWarning: is_sparse is deprecated and will be removed in a future version. Check `isinstance(dtype, pd.SparseDtype)` instead.\n",
      "  if is_sparse(pd_dtype) or not is_extension_array_dtype(pd_dtype):\n"
     ]
    }
   ],
   "source": [
    "X_train=pd.DataFrame(scaler_model.transform(X_train),columns=X_train.columns,index=X_train.index)"
   ]
  },
  {
   "cell_type": "code",
   "execution_count": 19,
   "metadata": {},
   "outputs": [
    {
     "name": "stdout",
     "output_type": "stream",
     "text": [
      "        Number_1  Number_2  Number_3  Number_4  Number_5  Number_6  Number_7  \\\n",
      "145854  0.783420  0.256757  0.545648  0.687141  0.592065  0.479104  0.687141   \n",
      "101062  0.367865  0.317568  0.382166  1.000000  0.216902  0.923528  1.000000   \n",
      "288686  0.548054  0.361486  0.140127  1.000000  0.216902  0.923528  1.000000   \n",
      "273287  0.397393  0.300676  0.044586  0.098803  0.806242  0.413569  0.098803   \n",
      "253065  0.310048  0.131757  0.269639  0.467082  0.871727  0.134270  0.467082   \n",
      "...          ...       ...       ...       ...       ...       ...       ...   \n",
      "243799  0.350607  0.236486  0.481953  0.815893  0.332860  0.554242  0.815893   \n",
      "192059  0.793050  0.631757  0.817410  0.306893  0.851260  0.626445  0.306893   \n",
      "279932  0.839825  0.516892  0.299363  1.000000  0.216902  0.923528  1.000000   \n",
      "83116   0.346104  0.280405  0.244161  0.715586  0.285115  0.853993  0.715586   \n",
      "280335  0.990532  0.209459  1.000000  0.232038  0.533402  0.337187  0.217076   \n",
      "\n",
      "        Number_8  Number_9  Number_10  Number_11  Number_12  Number_13  \\\n",
      "145854  0.592065       0.0        0.0        1.0        0.0        0.0   \n",
      "101062  0.216902       1.0        0.0        0.0        0.0        0.0   \n",
      "288686  0.216902       1.0        0.0        0.0        0.0        0.0   \n",
      "273287  0.806242       0.0        0.0        0.0        0.0        1.0   \n",
      "253065  0.871727       0.0        0.0        0.0        0.0        0.0   \n",
      "...          ...       ...        ...        ...        ...        ...   \n",
      "243799  0.332860       0.0        0.0        0.0        0.0        0.0   \n",
      "192059  0.851260       1.0        0.0        0.0        0.0        0.0   \n",
      "279932  0.216902       0.0        0.0        1.0        0.0        0.0   \n",
      "83116   0.285115       1.0        0.0        0.0        0.0        0.0   \n",
      "280335  0.604341       0.0        0.0        0.0        0.0        0.0   \n",
      "\n",
      "        Number_14  Number_15  Number_16  Number_17  \n",
      "145854        0.0        0.0        0.0        0.0  \n",
      "101062        1.0        0.0        0.0        0.0  \n",
      "288686        1.0        0.0        0.0        0.0  \n",
      "273287        0.0        0.0        0.0        0.0  \n",
      "253065        0.0        1.0        0.0        0.0  \n",
      "...           ...        ...        ...        ...  \n",
      "243799        0.0        1.0        0.0        0.0  \n",
      "192059        1.0        0.0        1.0        0.0  \n",
      "279932        0.0        0.0        0.0        0.0  \n",
      "83116         1.0        1.0        0.0        0.0  \n",
      "280335        0.0        1.0        0.0        0.0  \n",
      "\n",
      "[75551 rows x 17 columns]\n"
     ]
    },
    {
     "name": "stderr",
     "output_type": "stream",
     "text": [
      "/Users/amber/opt/anaconda3/lib/python3.9/site-packages/sklearn/utils/validation.py:767: FutureWarning: is_sparse is deprecated and will be removed in a future version. Check `isinstance(dtype, pd.SparseDtype)` instead.\n",
      "  if not hasattr(array, \"sparse\") and array.dtypes.apply(is_sparse).any():\n",
      "/Users/amber/opt/anaconda3/lib/python3.9/site-packages/sklearn/utils/validation.py:605: FutureWarning: is_sparse is deprecated and will be removed in a future version. Check `isinstance(dtype, pd.SparseDtype)` instead.\n",
      "  if is_sparse(pd_dtype):\n",
      "/Users/amber/opt/anaconda3/lib/python3.9/site-packages/sklearn/utils/validation.py:614: FutureWarning: is_sparse is deprecated and will be removed in a future version. Check `isinstance(dtype, pd.SparseDtype)` instead.\n",
      "  if is_sparse(pd_dtype) or not is_extension_array_dtype(pd_dtype):\n"
     ]
    }
   ],
   "source": [
    "X_eval=pd.DataFrame(scaler_model.transform(X_eval),columns=X_eval.columns,index=X_eval.index)\n",
    "print(X_eval)"
   ]
  },
  {
   "cell_type": "code",
   "execution_count": 20,
   "metadata": {},
   "outputs": [],
   "source": [
    "#print((0.74558053-0.5002686206)/np.sqrt(0.0418660216))\n",
    "#print(X_eval)"
   ]
  },
  {
   "cell_type": "code",
   "execution_count": 21,
   "metadata": {},
   "outputs": [],
   "source": [
    "# Neural network\n",
    "model = Sequential()\n",
    "model.add(Dense(64, input_dim = 17, kernel_initializer = 'random_normal', activation='relu'))\n",
    "model.add(Dense(32, activation='relu'))\n",
    "model.add(Dense(1,activation='relu'))"
   ]
  },
  {
   "cell_type": "code",
   "execution_count": 22,
   "metadata": {},
   "outputs": [],
   "source": [
    "model.compile(loss='mean_squared_error', optimizer='adam', metrics=['MeanAbsolutePercentageError'])"
   ]
  },
  {
   "cell_type": "code",
   "execution_count": 23,
   "metadata": {
    "scrolled": false
   },
   "outputs": [
    {
     "name": "stdout",
     "output_type": "stream",
     "text": [
      "Epoch 1/100\n",
      "227/227 [==============================] - 1s 3ms/step - loss: 741.6763 - mean_absolute_percentage_error: 51.5907 - val_loss: 130.1236 - val_mean_absolute_percentage_error: 23.3967\n",
      "Epoch 2/100\n",
      "227/227 [==============================] - 0s 2ms/step - loss: 98.8208 - mean_absolute_percentage_error: 20.4794 - val_loss: 67.9102 - val_mean_absolute_percentage_error: 17.0039\n",
      "Epoch 3/100\n",
      "227/227 [==============================] - 1s 2ms/step - loss: 39.7385 - mean_absolute_percentage_error: 12.8819 - val_loss: 19.2283 - val_mean_absolute_percentage_error: 8.9570\n",
      "Epoch 4/100\n",
      "227/227 [==============================] - 1s 2ms/step - loss: 14.1741 - mean_absolute_percentage_error: 7.5596 - val_loss: 12.1702 - val_mean_absolute_percentage_error: 6.8149\n",
      "Epoch 5/100\n",
      "227/227 [==============================] - 1s 2ms/step - loss: 12.0057 - mean_absolute_percentage_error: 6.7716 - val_loss: 11.8613 - val_mean_absolute_percentage_error: 6.6578\n",
      "Epoch 6/100\n",
      "227/227 [==============================] - 1s 3ms/step - loss: 11.8626 - mean_absolute_percentage_error: 6.6801 - val_loss: 11.7833 - val_mean_absolute_percentage_error: 6.5948\n",
      "Epoch 7/100\n",
      "227/227 [==============================] - 1s 3ms/step - loss: 11.7792 - mean_absolute_percentage_error: 6.6350 - val_loss: 11.7136 - val_mean_absolute_percentage_error: 6.5815\n",
      "Epoch 8/100\n",
      "227/227 [==============================] - 1s 3ms/step - loss: 11.7488 - mean_absolute_percentage_error: 6.6174 - val_loss: 11.6817 - val_mean_absolute_percentage_error: 6.5796\n",
      "Epoch 9/100\n",
      "227/227 [==============================] - 0s 2ms/step - loss: 11.7309 - mean_absolute_percentage_error: 6.6097 - val_loss: 11.6631 - val_mean_absolute_percentage_error: 6.5628\n",
      "Epoch 10/100\n",
      "227/227 [==============================] - 0s 2ms/step - loss: 11.7053 - mean_absolute_percentage_error: 6.5991 - val_loss: 11.6519 - val_mean_absolute_percentage_error: 6.6130\n",
      "Epoch 11/100\n",
      "227/227 [==============================] - 0s 2ms/step - loss: 11.6709 - mean_absolute_percentage_error: 6.5863 - val_loss: 11.5849 - val_mean_absolute_percentage_error: 6.5302\n",
      "Epoch 12/100\n",
      "227/227 [==============================] - 0s 2ms/step - loss: 11.6142 - mean_absolute_percentage_error: 6.5657 - val_loss: 11.5915 - val_mean_absolute_percentage_error: 6.4635\n",
      "Epoch 13/100\n",
      "227/227 [==============================] - 0s 2ms/step - loss: 11.5368 - mean_absolute_percentage_error: 6.5377 - val_loss: 11.4538 - val_mean_absolute_percentage_error: 6.5360\n",
      "Epoch 14/100\n",
      "227/227 [==============================] - 0s 2ms/step - loss: 11.4346 - mean_absolute_percentage_error: 6.5022 - val_loss: 11.3226 - val_mean_absolute_percentage_error: 6.4743\n",
      "Epoch 15/100\n",
      "227/227 [==============================] - 1s 2ms/step - loss: 11.2961 - mean_absolute_percentage_error: 6.4566 - val_loss: 11.1962 - val_mean_absolute_percentage_error: 6.3503\n",
      "Epoch 16/100\n",
      "227/227 [==============================] - 1s 2ms/step - loss: 11.0769 - mean_absolute_percentage_error: 6.3815 - val_loss: 10.8304 - val_mean_absolute_percentage_error: 6.2764\n",
      "Epoch 17/100\n",
      "227/227 [==============================] - 0s 2ms/step - loss: 10.6327 - mean_absolute_percentage_error: 6.2264 - val_loss: 10.3988 - val_mean_absolute_percentage_error: 6.1424\n",
      "Epoch 18/100\n",
      "227/227 [==============================] - 1s 3ms/step - loss: 10.3162 - mean_absolute_percentage_error: 6.1164 - val_loss: 10.2013 - val_mean_absolute_percentage_error: 6.0495\n",
      "Epoch 19/100\n",
      "227/227 [==============================] - 0s 2ms/step - loss: 10.1733 - mean_absolute_percentage_error: 6.0626 - val_loss: 10.1279 - val_mean_absolute_percentage_error: 6.0376\n",
      "Epoch 20/100\n",
      "227/227 [==============================] - 0s 2ms/step - loss: 10.1123 - mean_absolute_percentage_error: 6.0384 - val_loss: 10.0814 - val_mean_absolute_percentage_error: 5.9984\n",
      "Epoch 21/100\n",
      "227/227 [==============================] - 0s 2ms/step - loss: 10.0757 - mean_absolute_percentage_error: 6.0266 - val_loss: 10.0500 - val_mean_absolute_percentage_error: 6.0160\n",
      "Epoch 22/100\n",
      "227/227 [==============================] - 1s 2ms/step - loss: 10.0454 - mean_absolute_percentage_error: 6.0146 - val_loss: 10.0273 - val_mean_absolute_percentage_error: 5.9705\n",
      "Epoch 23/100\n",
      "227/227 [==============================] - 0s 2ms/step - loss: 10.0304 - mean_absolute_percentage_error: 6.0096 - val_loss: 10.0398 - val_mean_absolute_percentage_error: 5.9517\n",
      "Epoch 24/100\n",
      "227/227 [==============================] - 0s 2ms/step - loss: 10.0056 - mean_absolute_percentage_error: 6.0026 - val_loss: 9.9994 - val_mean_absolute_percentage_error: 5.9408\n",
      "Epoch 25/100\n",
      "227/227 [==============================] - 0s 2ms/step - loss: 9.9688 - mean_absolute_percentage_error: 5.9861 - val_loss: 9.9613 - val_mean_absolute_percentage_error: 5.9950\n",
      "Epoch 26/100\n",
      "227/227 [==============================] - 1s 2ms/step - loss: 9.9248 - mean_absolute_percentage_error: 5.9691 - val_loss: 9.8782 - val_mean_absolute_percentage_error: 5.9270\n",
      "Epoch 27/100\n",
      "227/227 [==============================] - 1s 2ms/step - loss: 9.8882 - mean_absolute_percentage_error: 5.9523 - val_loss: 9.8502 - val_mean_absolute_percentage_error: 5.8980\n",
      "Epoch 28/100\n",
      "227/227 [==============================] - 0s 2ms/step - loss: 9.8536 - mean_absolute_percentage_error: 5.9365 - val_loss: 9.8406 - val_mean_absolute_percentage_error: 5.8892\n",
      "Epoch 29/100\n",
      "227/227 [==============================] - 1s 2ms/step - loss: 9.8343 - mean_absolute_percentage_error: 5.9259 - val_loss: 9.8625 - val_mean_absolute_percentage_error: 5.9663\n",
      "Epoch 30/100\n",
      "227/227 [==============================] - 1s 2ms/step - loss: 9.8164 - mean_absolute_percentage_error: 5.9164 - val_loss: 9.8038 - val_mean_absolute_percentage_error: 5.8645\n",
      "Epoch 31/100\n",
      "227/227 [==============================] - 0s 2ms/step - loss: 9.7907 - mean_absolute_percentage_error: 5.9063 - val_loss: 9.7634 - val_mean_absolute_percentage_error: 5.9001\n",
      "Epoch 32/100\n",
      "227/227 [==============================] - 0s 2ms/step - loss: 9.7368 - mean_absolute_percentage_error: 5.8915 - val_loss: 9.8051 - val_mean_absolute_percentage_error: 5.9687\n",
      "Epoch 33/100\n",
      "227/227 [==============================] - 1s 3ms/step - loss: 9.6680 - mean_absolute_percentage_error: 5.8724 - val_loss: 9.6242 - val_mean_absolute_percentage_error: 5.8246\n",
      "Epoch 34/100\n",
      "227/227 [==============================] - 1s 2ms/step - loss: 9.5898 - mean_absolute_percentage_error: 5.8456 - val_loss: 9.5665 - val_mean_absolute_percentage_error: 5.7999\n",
      "Epoch 35/100\n",
      "227/227 [==============================] - 1s 4ms/step - loss: 9.5395 - mean_absolute_percentage_error: 5.8276 - val_loss: 9.6221 - val_mean_absolute_percentage_error: 5.7867\n",
      "Epoch 36/100\n",
      "227/227 [==============================] - 1s 3ms/step - loss: 9.4865 - mean_absolute_percentage_error: 5.8081 - val_loss: 9.4811 - val_mean_absolute_percentage_error: 5.8071\n",
      "Epoch 37/100\n",
      "227/227 [==============================] - 1s 2ms/step - loss: 9.4607 - mean_absolute_percentage_error: 5.7990 - val_loss: 9.4337 - val_mean_absolute_percentage_error: 5.7430\n",
      "Epoch 38/100\n",
      "227/227 [==============================] - 0s 2ms/step - loss: 9.4329 - mean_absolute_percentage_error: 5.7875 - val_loss: 9.4401 - val_mean_absolute_percentage_error: 5.7334\n",
      "Epoch 39/100\n",
      "227/227 [==============================] - 0s 2ms/step - loss: 9.4135 - mean_absolute_percentage_error: 5.7802 - val_loss: 9.4083 - val_mean_absolute_percentage_error: 5.7324\n",
      "Epoch 40/100\n",
      "227/227 [==============================] - 0s 2ms/step - loss: 9.4087 - mean_absolute_percentage_error: 5.7775 - val_loss: 9.3954 - val_mean_absolute_percentage_error: 5.7316\n",
      "Epoch 41/100\n",
      "227/227 [==============================] - 1s 3ms/step - loss: 9.3761 - mean_absolute_percentage_error: 5.7660 - val_loss: 9.3666 - val_mean_absolute_percentage_error: 5.7562\n",
      "Epoch 42/100\n",
      "227/227 [==============================] - 0s 2ms/step - loss: 9.3819 - mean_absolute_percentage_error: 5.7679 - val_loss: 9.3586 - val_mean_absolute_percentage_error: 5.7358\n",
      "Epoch 43/100\n",
      "227/227 [==============================] - 0s 2ms/step - loss: 9.3644 - mean_absolute_percentage_error: 5.7591 - val_loss: 9.3478 - val_mean_absolute_percentage_error: 5.7222\n",
      "Epoch 44/100\n",
      "227/227 [==============================] - 1s 2ms/step - loss: 9.3470 - mean_absolute_percentage_error: 5.7526 - val_loss: 9.3696 - val_mean_absolute_percentage_error: 5.7135\n",
      "Epoch 45/100\n",
      "227/227 [==============================] - 0s 2ms/step - loss: 9.3394 - mean_absolute_percentage_error: 5.7506 - val_loss: 9.4150 - val_mean_absolute_percentage_error: 5.7023\n",
      "Epoch 46/100\n",
      "227/227 [==============================] - 0s 2ms/step - loss: 9.3436 - mean_absolute_percentage_error: 5.7543 - val_loss: 9.3689 - val_mean_absolute_percentage_error: 5.7067\n",
      "Epoch 47/100\n",
      "227/227 [==============================] - 1s 3ms/step - loss: 9.3364 - mean_absolute_percentage_error: 5.7496 - val_loss: 9.3588 - val_mean_absolute_percentage_error: 5.7199\n",
      "Epoch 48/100\n",
      "227/227 [==============================] - 1s 2ms/step - loss: 9.3312 - mean_absolute_percentage_error: 5.7451 - val_loss: 9.3286 - val_mean_absolute_percentage_error: 5.7420\n",
      "Epoch 49/100\n",
      "227/227 [==============================] - 0s 2ms/step - loss: 9.3343 - mean_absolute_percentage_error: 5.7477 - val_loss: 9.3135 - val_mean_absolute_percentage_error: 5.7145\n",
      "Epoch 50/100\n",
      "227/227 [==============================] - 0s 2ms/step - loss: 9.3285 - mean_absolute_percentage_error: 5.7440 - val_loss: 9.3544 - val_mean_absolute_percentage_error: 5.7032\n",
      "Epoch 51/100\n",
      "227/227 [==============================] - 1s 2ms/step - loss: 9.3115 - mean_absolute_percentage_error: 5.7384 - val_loss: 9.3442 - val_mean_absolute_percentage_error: 5.6954\n",
      "Epoch 52/100\n",
      "227/227 [==============================] - 1s 2ms/step - loss: 9.3130 - mean_absolute_percentage_error: 5.7384 - val_loss: 9.4406 - val_mean_absolute_percentage_error: 5.8255\n",
      "Epoch 53/100\n",
      "227/227 [==============================] - 0s 2ms/step - loss: 9.3118 - mean_absolute_percentage_error: 5.7379 - val_loss: 9.3054 - val_mean_absolute_percentage_error: 5.7076\n",
      "Epoch 54/100\n",
      "227/227 [==============================] - 1s 2ms/step - loss: 9.3014 - mean_absolute_percentage_error: 5.7348 - val_loss: 9.3105 - val_mean_absolute_percentage_error: 5.7197\n",
      "Epoch 55/100\n",
      "227/227 [==============================] - 1s 3ms/step - loss: 9.3056 - mean_absolute_percentage_error: 5.7356 - val_loss: 9.3190 - val_mean_absolute_percentage_error: 5.7458\n",
      "Epoch 56/100\n",
      "227/227 [==============================] - 1s 3ms/step - loss: 9.2965 - mean_absolute_percentage_error: 5.7306 - val_loss: 9.3014 - val_mean_absolute_percentage_error: 5.6985\n",
      "Epoch 57/100\n",
      "227/227 [==============================] - 0s 2ms/step - loss: 9.2950 - mean_absolute_percentage_error: 5.7317 - val_loss: 9.3337 - val_mean_absolute_percentage_error: 5.6947\n",
      "Epoch 58/100\n",
      "227/227 [==============================] - 1s 2ms/step - loss: 9.2964 - mean_absolute_percentage_error: 5.7320 - val_loss: 9.2967 - val_mean_absolute_percentage_error: 5.7100\n",
      "Epoch 59/100\n",
      "227/227 [==============================] - 0s 2ms/step - loss: 9.2905 - mean_absolute_percentage_error: 5.7293 - val_loss: 9.3013 - val_mean_absolute_percentage_error: 5.7338\n",
      "Epoch 60/100\n",
      "227/227 [==============================] - 0s 2ms/step - loss: 9.2853 - mean_absolute_percentage_error: 5.7279 - val_loss: 9.3128 - val_mean_absolute_percentage_error: 5.7450\n",
      "Epoch 61/100\n",
      "227/227 [==============================] - 0s 2ms/step - loss: 9.2982 - mean_absolute_percentage_error: 5.7345 - val_loss: 9.2972 - val_mean_absolute_percentage_error: 5.6999\n",
      "Epoch 62/100\n",
      "227/227 [==============================] - 1s 3ms/step - loss: 9.2867 - mean_absolute_percentage_error: 5.7278 - val_loss: 9.2947 - val_mean_absolute_percentage_error: 5.7300\n",
      "Epoch 63/100\n",
      "227/227 [==============================] - 1s 3ms/step - loss: 9.2890 - mean_absolute_percentage_error: 5.7286 - val_loss: 9.2854 - val_mean_absolute_percentage_error: 5.6961\n",
      "Epoch 64/100\n",
      "227/227 [==============================] - 1s 2ms/step - loss: 9.2867 - mean_absolute_percentage_error: 5.7281 - val_loss: 9.2999 - val_mean_absolute_percentage_error: 5.7009\n",
      "Epoch 65/100\n",
      "227/227 [==============================] - 1s 2ms/step - loss: 9.2820 - mean_absolute_percentage_error: 5.7260 - val_loss: 9.3422 - val_mean_absolute_percentage_error: 5.7559\n",
      "Epoch 66/100\n",
      "227/227 [==============================] - 1s 3ms/step - loss: 9.2805 - mean_absolute_percentage_error: 5.7259 - val_loss: 9.3085 - val_mean_absolute_percentage_error: 5.6979\n",
      "Epoch 67/100\n",
      "227/227 [==============================] - 1s 3ms/step - loss: 9.2786 - mean_absolute_percentage_error: 5.7243 - val_loss: 9.3072 - val_mean_absolute_percentage_error: 5.6911\n",
      "Epoch 68/100\n",
      "227/227 [==============================] - 0s 2ms/step - loss: 9.2850 - mean_absolute_percentage_error: 5.7269 - val_loss: 9.3200 - val_mean_absolute_percentage_error: 5.7490\n",
      "Epoch 69/100\n",
      "227/227 [==============================] - 0s 2ms/step - loss: 9.2768 - mean_absolute_percentage_error: 5.7248 - val_loss: 9.3139 - val_mean_absolute_percentage_error: 5.6883\n",
      "Epoch 70/100\n",
      "227/227 [==============================] - 0s 2ms/step - loss: 9.2751 - mean_absolute_percentage_error: 5.7228 - val_loss: 9.2894 - val_mean_absolute_percentage_error: 5.7178\n",
      "Epoch 71/100\n",
      "227/227 [==============================] - 1s 2ms/step - loss: 9.2760 - mean_absolute_percentage_error: 5.7244 - val_loss: 9.2868 - val_mean_absolute_percentage_error: 5.6962\n",
      "Epoch 72/100\n",
      "227/227 [==============================] - 1s 2ms/step - loss: 9.2778 - mean_absolute_percentage_error: 5.7231 - val_loss: 9.2970 - val_mean_absolute_percentage_error: 5.6897\n",
      "Epoch 73/100\n",
      "227/227 [==============================] - 1s 2ms/step - loss: 9.2942 - mean_absolute_percentage_error: 5.7287 - val_loss: 9.3050 - val_mean_absolute_percentage_error: 5.7341\n",
      "Epoch 74/100\n",
      "227/227 [==============================] - 1s 3ms/step - loss: 9.2843 - mean_absolute_percentage_error: 5.7288 - val_loss: 9.3705 - val_mean_absolute_percentage_error: 5.6907\n",
      "Epoch 75/100\n",
      "227/227 [==============================] - 0s 2ms/step - loss: 9.2708 - mean_absolute_percentage_error: 5.7207 - val_loss: 9.3369 - val_mean_absolute_percentage_error: 5.6841\n",
      "Epoch 76/100\n",
      "227/227 [==============================] - 0s 2ms/step - loss: 9.2784 - mean_absolute_percentage_error: 5.7260 - val_loss: 9.3531 - val_mean_absolute_percentage_error: 5.6884\n",
      "Epoch 77/100\n",
      "227/227 [==============================] - 1s 2ms/step - loss: 9.2775 - mean_absolute_percentage_error: 5.7235 - val_loss: 9.3293 - val_mean_absolute_percentage_error: 5.6835\n",
      "Epoch 78/100\n",
      "227/227 [==============================] - 0s 2ms/step - loss: 9.2696 - mean_absolute_percentage_error: 5.7197 - val_loss: 9.2847 - val_mean_absolute_percentage_error: 5.6944\n",
      "Epoch 79/100\n",
      "227/227 [==============================] - 1s 2ms/step - loss: 9.2684 - mean_absolute_percentage_error: 5.7190 - val_loss: 9.3448 - val_mean_absolute_percentage_error: 5.7773\n",
      "Epoch 80/100\n",
      "227/227 [==============================] - 1s 3ms/step - loss: 9.2587 - mean_absolute_percentage_error: 5.7176 - val_loss: 9.3723 - val_mean_absolute_percentage_error: 5.7941\n",
      "Epoch 81/100\n",
      "227/227 [==============================] - 1s 3ms/step - loss: 9.2730 - mean_absolute_percentage_error: 5.7220 - val_loss: 9.3024 - val_mean_absolute_percentage_error: 5.6856\n",
      "Epoch 82/100\n",
      "227/227 [==============================] - 1s 3ms/step - loss: 9.2655 - mean_absolute_percentage_error: 5.7202 - val_loss: 9.2717 - val_mean_absolute_percentage_error: 5.6968\n",
      "Epoch 83/100\n",
      "227/227 [==============================] - 1s 2ms/step - loss: 9.2707 - mean_absolute_percentage_error: 5.7218 - val_loss: 9.3007 - val_mean_absolute_percentage_error: 5.7345\n",
      "Epoch 84/100\n",
      "227/227 [==============================] - 1s 3ms/step - loss: 9.2721 - mean_absolute_percentage_error: 5.7209 - val_loss: 9.2783 - val_mean_absolute_percentage_error: 5.6933\n",
      "Epoch 85/100\n",
      "227/227 [==============================] - 0s 2ms/step - loss: 9.2762 - mean_absolute_percentage_error: 5.7238 - val_loss: 9.3102 - val_mean_absolute_percentage_error: 5.7543\n",
      "Epoch 86/100\n",
      "227/227 [==============================] - 0s 2ms/step - loss: 9.2632 - mean_absolute_percentage_error: 5.7184 - val_loss: 9.3492 - val_mean_absolute_percentage_error: 5.6807\n",
      "Epoch 87/100\n",
      "227/227 [==============================] - 1s 3ms/step - loss: 9.2675 - mean_absolute_percentage_error: 5.7191 - val_loss: 9.3133 - val_mean_absolute_percentage_error: 5.7000\n"
     ]
    },
    {
     "name": "stdout",
     "output_type": "stream",
     "text": [
      "Epoch 88/100\n",
      "227/227 [==============================] - 1s 3ms/step - loss: 9.2545 - mean_absolute_percentage_error: 5.7150 - val_loss: 9.2986 - val_mean_absolute_percentage_error: 5.6845\n",
      "Epoch 89/100\n",
      "227/227 [==============================] - 1s 2ms/step - loss: 9.2779 - mean_absolute_percentage_error: 5.7232 - val_loss: 9.2797 - val_mean_absolute_percentage_error: 5.7201\n",
      "Epoch 90/100\n",
      "227/227 [==============================] - 1s 2ms/step - loss: 9.2654 - mean_absolute_percentage_error: 5.7182 - val_loss: 9.2878 - val_mean_absolute_percentage_error: 5.7030\n",
      "Epoch 91/100\n",
      "227/227 [==============================] - 1s 3ms/step - loss: 9.2771 - mean_absolute_percentage_error: 5.7252 - val_loss: 9.2738 - val_mean_absolute_percentage_error: 5.6957\n",
      "Epoch 92/100\n",
      "227/227 [==============================] - 1s 3ms/step - loss: 9.2631 - mean_absolute_percentage_error: 5.7183 - val_loss: 9.3813 - val_mean_absolute_percentage_error: 5.6876\n",
      "Epoch 93/100\n",
      "227/227 [==============================] - 1s 3ms/step - loss: 9.2533 - mean_absolute_percentage_error: 5.7139 - val_loss: 9.2802 - val_mean_absolute_percentage_error: 5.7157\n",
      "Epoch 94/100\n",
      "227/227 [==============================] - 1s 3ms/step - loss: 9.2573 - mean_absolute_percentage_error: 5.7141 - val_loss: 9.2851 - val_mean_absolute_percentage_error: 5.7313\n",
      "Epoch 95/100\n",
      "227/227 [==============================] - 1s 2ms/step - loss: 9.2572 - mean_absolute_percentage_error: 5.7144 - val_loss: 9.2689 - val_mean_absolute_percentage_error: 5.6960\n",
      "Epoch 96/100\n",
      "227/227 [==============================] - 1s 2ms/step - loss: 9.2461 - mean_absolute_percentage_error: 5.7106 - val_loss: 9.2816 - val_mean_absolute_percentage_error: 5.7311\n",
      "Epoch 97/100\n",
      "227/227 [==============================] - 1s 3ms/step - loss: 9.2586 - mean_absolute_percentage_error: 5.7168 - val_loss: 9.2844 - val_mean_absolute_percentage_error: 5.7337\n",
      "Epoch 98/100\n",
      "227/227 [==============================] - 0s 2ms/step - loss: 9.2585 - mean_absolute_percentage_error: 5.7159 - val_loss: 9.3340 - val_mean_absolute_percentage_error: 5.7676\n",
      "Epoch 99/100\n",
      "227/227 [==============================] - 0s 2ms/step - loss: 9.2473 - mean_absolute_percentage_error: 5.7112 - val_loss: 9.2691 - val_mean_absolute_percentage_error: 5.6805\n",
      "Epoch 100/100\n",
      "227/227 [==============================] - 0s 2ms/step - loss: 9.2697 - mean_absolute_percentage_error: 5.7190 - val_loss: 9.3025 - val_mean_absolute_percentage_error: 5.7457\n"
     ]
    }
   ],
   "source": [
    "history = model.fit(X_train, y_train, epochs=100, batch_size=1000, validation_data=(X_eval, y_eval), shuffle=True)"
   ]
  },
  {
   "cell_type": "code",
   "execution_count": 24,
   "metadata": {},
   "outputs": [
    {
     "name": "stdout",
     "output_type": "stream",
     "text": [
      "Model: \"sequential\"\n",
      "_________________________________________________________________\n",
      " Layer (type)                Output Shape              Param #   \n",
      "=================================================================\n",
      " dense (Dense)               (None, 64)                1152      \n",
      "                                                                 \n",
      " dense_1 (Dense)             (None, 32)                2080      \n",
      "                                                                 \n",
      " dense_2 (Dense)             (None, 1)                 33        \n",
      "                                                                 \n",
      "=================================================================\n",
      "Total params: 3265 (12.75 KB)\n",
      "Trainable params: 3265 (12.75 KB)\n",
      "Non-trainable params: 0 (0.00 Byte)\n",
      "_________________________________________________________________\n"
     ]
    }
   ],
   "source": [
    "model.summary()"
   ]
  },
  {
   "cell_type": "code",
   "execution_count": 29,
   "metadata": {},
   "outputs": [
    {
     "data": {
      "image/png": "[encoded data removed]",
      "text/plain": [
       "<Figure size 1000x800 with 1 Axes>"
      ]
     },
     "metadata": {},
     "output_type": "display_data"
    }
   ],
   "source": [
    "plt.rcParams['figure.figsize'] = [10, 8]\n",
    "plt.plot(history.history['loss'], 'r-', label='Training Loss', linewidth=5.0)\n",
    "plt.plot(history.history['val_loss'], 'b-', label='Testing Loss', linewidth=3.0)\n",
    "###plt.plot(testing_losses, 'b-', label='Testing Loss', linewidth=3.0)\n",
    "###plt.ylim((0, 800))\n",
    "plt.xlabel('Model Performance: Training vs Testing Loss', fontsize=20)\n",
    "plt.ylabel('Loss (MSE)')\n",
    "plt.legend()\n",
    "plt.show()"
   ]
  },
  {
   "cell_type": "code",
   "execution_count": null,
   "metadata": {},
   "outputs": [],
   "source": [
    "# manually set the parameters of the figure to an appropriate size\n",
    "plt.rcParams['figure.figsize'] = [10,8]\n",
    "plt.plot(history.history['loss'],'r-',linewidth=3.0) \n",
    "plt.ylim((0,800))\n",
    "plt.xlabel('DNN Training steps', fontsize = 20)\n",
    "plt.ylabel('Loss (MSE)')\n",
    "plt.show()"
   ]
  },
  {
   "cell_type": "code",
   "execution_count": null,
   "metadata": {},
   "outputs": [],
   "source": [
    "ytrain_pred = model.predict(X_train,batch_size=None)\n",
    "from sklearn.metrics import r2_score\n",
    "R2 = r2_score(y_train,ytrain_pred)\n",
    "print(R2)"
   ]
  },
  {
   "cell_type": "code",
   "execution_count": null,
   "metadata": {
    "scrolled": true
   },
   "outputs": [],
   "source": [
    "y_pred = model.predict(X_eval,batch_size=None)\n",
    "from sklearn.metrics import r2_score\n",
    "R2 = r2_score(y_eval,y_pred)\n",
    "print(R2)"
   ]
  },
  {
   "cell_type": "code",
   "execution_count": null,
   "metadata": {},
   "outputs": [],
   "source": [
    "frd = []\n",
    "for i in range(len(y_pred)):\n",
    "    frd.append(y_pred[i,0])\n",
    "mse = keras.losses.MeanSquaredError()\n",
    "rmse = math.sqrt(mse(y_eval.to_numpy(), frd).numpy())\n",
    "print(f'MSE is {mse(y_eval.to_numpy(), frd).numpy()}')\n",
    "print(f'RMSE is {rmse}')\n",
    "R2 = r2_score(y_eval,frd)\n",
    "print(f'R2 Score is {R2}')"
   ]
  },
  {
   "cell_type": "code",
   "execution_count": null,
   "metadata": {},
   "outputs": [],
   "source": [
    "history.history['loss']"
   ]
  },
  {
   "cell_type": "code",
   "execution_count": null,
   "metadata": {},
   "outputs": [],
   "source": [
    "testing_loss = mean_squared_error(y_eval, y_pred)\n",
    "\n",
    "plt.rcParams['figure.figsize'] = [10, 8]\n",
    "#plt.plot(history.history['loss'], 'r-', label='Training Loss', linewidth=3.0)\n",
    "plt.plot(testing_loss, 'b-', label='Testing Loss', linewidth=3.0)\n",
    "#plt.ylim((0, 1))\n",
    "plt.xlabel('DNN Training steps', fontsize=20)\n",
    "plt.ylabel('Loss (MSE)')\n",
    "plt.legend()\n",
    "plt.show()"
   ]
  },
  {
   "cell_type": "code",
   "execution_count": null,
   "metadata": {},
   "outputs": [],
   "source": [
    "plt.figure(figsize = (10,8))\n",
    "plt.plot(y_pred[:200], color = 'blue', label = 'Predicted data')\n",
    "plt.plot(y_eval.values[:200], color = 'red', label = 'Real test data')\n",
    "plt.legend(fontsize=20)\n",
    "plt.ylabel('Response Time')\n",
    "plt.show()"
   ]
  },
  {
   "cell_type": "code",
   "execution_count": null,
   "metadata": {},
   "outputs": [],
   "source": [
    "#frd_1 = model.layers[0].get_weights()\n",
    "#frd_2 = model.layers[1].get_weights()\n",
    "#frd_3 = model.layers[2].get_weights()\n",
    "#frd_4 = model.layers[3].get_weights()"
   ]
  },
  {
   "cell_type": "code",
   "execution_count": null,
   "metadata": {},
   "outputs": [],
   "source": [
    "#np.savetxt('weight_layer1.txt', frd_1[0], fmt='%f')\n",
    "#np.savetxt('bias_layer1.txt', frd_1[1], fmt='%f')\n",
    "#np.savetxt('weight_layer2.txt', frd_2[0], fmt='%f')\n",
    "#np.savetxt('bias_layer2.txt', frd_2[1], fmt='%f')\n",
    "#np.savetxt('weight_layer3.txt', frd_3[0], fmt='%f')\n",
    "#np.savetxt('bias_layer3.txt', frd_3[1], fmt='%f')\n",
    "#np.savetxt('weight_layer4.txt', frd_4[0], fmt='%f')\n",
    "#np.savetxt('bias_layer4.txt', frd_4[1], fmt='%f')"
   ]
  },
  {
   "cell_type": "code",
   "execution_count": null,
   "metadata": {},
   "outputs": [],
   "source": [
    "plt.figure(figsize = (10,8))\n",
    "plt.scatter(y_eval.values,y_pred, color = 'blue')\n",
    "plt.plot(y_eval.values, y_eval.values,color = 'red',linewidth = 3.0)\n",
    "plt.xlim((20,150))\n",
    "plt.ylim((20,150))\n",
    "plt.show()"
   ]
  },
  {
   "cell_type": "code",
   "execution_count": null,
   "metadata": {
    "scrolled": true
   },
   "outputs": [],
   "source": [
    "plt.figure(figsize = (10,8))\n",
    "n, bins, patches = plt.hist(x=y_eval.values, bins=20, color='#0504aa',alpha=0.7, rwidth=0.85)\n",
    "plt.grid(axis='y', alpha=0.75)\n",
    "maxfreq = n.max()\n",
    "# Set a clean upper y-axis limit.\n",
    "plt.ylim(ymax=np.ceil(maxfreq / 10) * 10 if maxfreq % 10 else maxfreq + 10)\n",
    "plt.ylim(0,3000)"
   ]
  },
  {
   "cell_type": "code",
   "execution_count": null,
   "metadata": {},
   "outputs": [],
   "source": [
    "plt.figure(figsize = (10,8))\n",
    "n, bins, patches = plt.hist(x=deformation, bins=20, color='#0504aa',alpha=0.7, rwidth=0.85)\n",
    "plt.grid(axis='y', alpha=0.75)\n",
    "maxfreq = n.max()\n",
    "# Set a clean upper y-axis limit.\n",
    "plt.ylim(ymax=np.ceil(maxfreq / 10) * 10 if maxfreq % 10 else maxfreq + 10)\n",
    "plt.ylim(0,12000)"
   ]
  },
  {
   "cell_type": "code",
   "execution_count": null,
   "metadata": {},
   "outputs": [],
   "source": [
    "print(solution1_pred)"
   ]
  },
  {
   "cell_type": "code",
   "execution_count": null,
   "metadata": {},
   "outputs": [],
   "source": [
    "df_solution1_pred = pd.DataFrame(solution1_pred)\n",
    "df_solution1_pred.to_csv(\"solution1_predictive_result.csv\", index=False)"
   ]
  },
  {
   "cell_type": "code",
   "execution_count": null,
   "metadata": {},
   "outputs": [],
   "source": [
    "########## Test solution - partition\n",
    "solution2_path = '/Users/amber/Documents/DAEN-690/dataset/data_dnn/solution_partition/partition_dataset_new.csv'\n",
    "solution2_data =  pd.read_csv(solution2_path, encoding = \"ISO-8859-1\",header=0, index_col=False)\n",
    "print(type(solution2_data))\n",
    "print(solution2_data.columns)"
   ]
  },
  {
   "cell_type": "code",
   "execution_count": null,
   "metadata": {},
   "outputs": [],
   "source": [
    "# One-Hot Encoding for 'FinalIncidentType', 'FinalEMScategory' and 'unit_type'\n",
    "solution2_encode = pd.get_dummies(solution2_data, columns=['FinalIncidentType','FinalEMScategory', 'unit_type'], drop_first=True)"
   ]
  },
  {
   "cell_type": "code",
   "execution_count": null,
   "metadata": {},
   "outputs": [],
   "source": [
    "solution2_encode"
   ]
  },
  {
   "cell_type": "code",
   "execution_count": null,
   "metadata": {},
   "outputs": [],
   "source": [
    "#solution2_encode.to_csv('/Users/amber/Documents/DAEN-690/dataset/data_dnn/solution_partition/partition_new_encode.csv', index=False)"
   ]
  },
  {
   "cell_type": "code",
   "execution_count": null,
   "metadata": {},
   "outputs": [],
   "source": [
    "solution2_test = pd.read_csv('/Users/amber/Documents/DAEN-690/dataset/data_dnn/solution_partition/partition_new_encode.csv', encoding = \"ISO-8859-1\",header=0, index_col=False)\n",
    "print(type(solution2_test))\n",
    "print(solution2_test.columns)"
   ]
  },
  {
   "cell_type": "code",
   "execution_count": null,
   "metadata": {},
   "outputs": [],
   "source": [
    "solution2_data_x = solution2_test.iloc[:,solution2_test.columns != 'actual_response_time']\n",
    "solution2_data_x = solution2_data_x.iloc[:,solution2_data_x.columns != 'UnitId']\n",
    "solution2_data_x = solution2_data_x.iloc[:,solution2_data_x.columns != 'EventID']\n",
    "solution2_data_x = solution2_data_x.iloc[:,solution2_data_x.columns != 'GeoFirstDue']\n",
    "solution2_data_x = solution2_data_x.iloc[:,solution2_data_x.columns != 'response_time']\n",
    "\n",
    "\n",
    "print(solution2_data_x.columns)"
   ]
  },
  {
   "cell_type": "code",
   "execution_count": null,
   "metadata": {},
   "outputs": [],
   "source": [
    "cols = []\n",
    "count = 1\n",
    "for column in solution2_data_x.columns:\n",
    "    cols.append(f'Number_{count}')\n",
    "    count = count + 1\n",
    "    continue\n",
    "\n",
    "solution2_data_x.columns = cols"
   ]
  },
  {
   "cell_type": "code",
   "execution_count": null,
   "metadata": {},
   "outputs": [],
   "source": [
    "#Creating Feature Columns\n",
    "feat_cols=[]\n",
    "for cols in solution2_data_x.columns:\n",
    "    column= tf.feature_column.numeric_column(cols)\n",
    "    feat_cols.append(column)\n",
    "    \n",
    "#print(feat_cols)\n",
    "print(type(feat_cols))"
   ]
  },
  {
   "cell_type": "code",
   "execution_count": null,
   "metadata": {},
   "outputs": [],
   "source": [
    "X_solution2_data=pd.DataFrame(scaler_model.transform(solution2_data_x),columns=solution2_data_x.columns,index=solution2_data_x.index)\n",
    "print(X_solution2_data)"
   ]
  },
  {
   "cell_type": "code",
   "execution_count": null,
   "metadata": {},
   "outputs": [],
   "source": [
    "solution2_pred = model.predict(X_solution2_data,batch_size=None)"
   ]
  },
  {
   "cell_type": "code",
   "execution_count": null,
   "metadata": {},
   "outputs": [],
   "source": [
    "print(solution2_pred)"
   ]
  },
  {
   "cell_type": "code",
   "execution_count": null,
   "metadata": {},
   "outputs": [],
   "source": [
    "df_solution2_pred = pd.DataFrame(solution2_pred)\n",
    "df_solution2_pred.to_csv(\"/Users/amber/Documents/DAEN-690/dataset/data_dnn/solution_partition/solution2_predictive_result.csv\", index=False)"
   ]
  },
  {
   "cell_type": "code",
   "execution_count": null,
   "metadata": {},
   "outputs": [],
   "source": [
    "############## Test solution - greedy\n",
    "solution3_path = '/Users/amber/Documents/DAEN-690/dataset/data_dnn/solution_greedy/greedy_dataset_new.csv'\n",
    "solution3_data =  pd.read_csv(solution3_path, encoding = \"ISO-8859-1\",header=0, index_col=False)\n",
    "print(type(solution3_data))\n",
    "print(solution3_data.columns)"
   ]
  },
  {
   "cell_type": "code",
   "execution_count": null,
   "metadata": {},
   "outputs": [],
   "source": [
    "# One-Hot Encoding for 'FinalIncidentType', 'FinalEMScategory' and 'unit_type'\n",
    "solution3_encode = pd.get_dummies(solution3_data, columns=['FinalIncidentType','FinalEMScategory', 'unit_type'], drop_first=True)"
   ]
  },
  {
   "cell_type": "code",
   "execution_count": null,
   "metadata": {},
   "outputs": [],
   "source": [
    "solution3_encode"
   ]
  },
  {
   "cell_type": "code",
   "execution_count": null,
   "metadata": {},
   "outputs": [],
   "source": [
    "solution3_encode.to_csv('/Users/amber/Documents/DAEN-690/dataset/data_dnn/solution_greedy/greedy_new_encode.csv', index=False)"
   ]
  },
  {
   "cell_type": "code",
   "execution_count": null,
   "metadata": {},
   "outputs": [],
   "source": [
    "solution3_test = pd.read_csv('/Users/amber/Documents/DAEN-690/dataset/data_dnn/solution_greedy/greedy_new_encode.csv', encoding = \"ISO-8859-1\",header=0, index_col=False)\n",
    "print(type(solution3_test))\n",
    "print(solution3_test.columns)"
   ]
  },
  {
   "cell_type": "code",
   "execution_count": null,
   "metadata": {},
   "outputs": [],
   "source": [
    "solution3_data_x = solution3_test.iloc[:,solution3_test.columns != 'actual_response_time']\n",
    "solution3_data_x = solution3_data_x.iloc[:,solution3_data_x.columns != 'UnitId']\n",
    "solution3_data_x = solution3_data_x.iloc[:,solution3_data_x.columns != 'EventID']\n",
    "solution3_data_x = solution3_data_x.iloc[:,solution3_data_x.columns != 'GeoFirstDue']\n",
    "solution3_data_x = solution3_data_x.iloc[:,solution3_data_x.columns != 'response_time']\n",
    "\n",
    "\n",
    "print(solution3_data_x.columns)"
   ]
  },
  {
   "cell_type": "code",
   "execution_count": null,
   "metadata": {},
   "outputs": [],
   "source": [
    "cols = []\n",
    "count = 1\n",
    "for column in solution3_data_x.columns:\n",
    "    cols.append(f'Number_{count}')\n",
    "    count = count + 1\n",
    "    continue\n",
    "\n",
    "solution3_data_x.columns = cols"
   ]
  },
  {
   "cell_type": "code",
   "execution_count": null,
   "metadata": {},
   "outputs": [],
   "source": [
    "#Creating Feature Columns\n",
    "feat_cols=[]\n",
    "for cols in solution3_data_x.columns:\n",
    "    column= tf.feature_column.numeric_column(cols)\n",
    "    feat_cols.append(column)\n",
    "    \n",
    "#print(feat_cols)\n",
    "print(type(feat_cols))"
   ]
  },
  {
   "cell_type": "code",
   "execution_count": null,
   "metadata": {},
   "outputs": [],
   "source": [
    "X_solution3_data=pd.DataFrame(scaler_model.transform(solution3_data_x),columns=solution3_data_x.columns,index=solution3_data_x.index)\n",
    "print(X_solution3_data)"
   ]
  },
  {
   "cell_type": "code",
   "execution_count": null,
   "metadata": {},
   "outputs": [],
   "source": [
    "solution3_pred = model.predict(X_solution3_data,batch_size=None)"
   ]
  },
  {
   "cell_type": "code",
   "execution_count": null,
   "metadata": {},
   "outputs": [],
   "source": [
    "print(solution3_pred)"
   ]
  },
  {
   "cell_type": "code",
   "execution_count": null,
   "metadata": {},
   "outputs": [],
   "source": [
    "df_solution3_pred = pd.DataFrame(solution3_pred)\n",
    "df_solution3_pred.to_csv(\"/Users/amber/Documents/DAEN-690/dataset/data_dnn/solution_greedy/solution3_predictive_result.csv\", index=False)"
   ]
  },
  {
   "cell_type": "code",
   "execution_count": null,
   "metadata": {},
   "outputs": [],
   "source": [
    "############## Test solution1\n",
    "solution1_path = '/Users/amber/Documents/DAEN-690/dataset/data_dnn/solution1/solution1_dataset_new.csv'\n",
    "solution1_data =  pd.read_csv(solution1_path, encoding = \"ISO-8859-1\",header=0, index_col=False)\n",
    "print(type(solution1_data))\n",
    "print(solution1_data.columns)"
   ]
  },
  {
   "cell_type": "code",
   "execution_count": null,
   "metadata": {},
   "outputs": [],
   "source": [
    "# One-Hot Encoding for 'FinalIncidentType', 'FinalEMScategory' and 'unit_type'\n",
    "solution1_encode = pd.get_dummies(solution1_data, columns=['FinalIncidentType','FinalEMScategory', 'unit_type'], drop_first=True)"
   ]
  },
  {
   "cell_type": "code",
   "execution_count": null,
   "metadata": {},
   "outputs": [],
   "source": [
    "solution1_encode"
   ]
  },
  {
   "cell_type": "code",
   "execution_count": null,
   "metadata": {},
   "outputs": [],
   "source": [
    "solution1_encode.to_csv('/Users/amber/Documents/DAEN-690/dataset/data_dnn/solution1/solution1_encode.csv', index=False)"
   ]
  },
  {
   "cell_type": "code",
   "execution_count": null,
   "metadata": {},
   "outputs": [],
   "source": [
    "solution1_test = pd.read_csv('/Users/amber/Documents/DAEN-690/dataset/data_dnn/solution1/solution1_encode.csv', encoding = \"ISO-8859-1\",header=0, index_col=False)\n",
    "print(type(solution1_test))\n",
    "print(solution1_test.columns)"
   ]
  },
  {
   "cell_type": "code",
   "execution_count": null,
   "metadata": {},
   "outputs": [],
   "source": [
    "solution1_data_x = solution1_test.iloc[:,solution1_test.columns != 'actual_response_time']\n",
    "solution1_data_x = solution1_data_x.iloc[:,solution1_data_x.columns != 'UnitId']\n",
    "solution1_data_x = solution1_data_x.iloc[:,solution1_data_x.columns != 'EventID']\n",
    "solution1_data_x = solution1_data_x.iloc[:,solution1_data_x.columns != 'GeoFirstDue']\n",
    "solution1_data_x = solution1_data_x.iloc[:,solution1_data_x.columns != 'response_time']\n",
    "\n",
    "\n",
    "print(solution1_data_x.columns)"
   ]
  },
  {
   "cell_type": "code",
   "execution_count": null,
   "metadata": {},
   "outputs": [],
   "source": [
    "cols = []\n",
    "count = 1\n",
    "for column in solution1_data_x.columns:\n",
    "    cols.append(f'Number_{count}')\n",
    "    count = count + 1\n",
    "    continue\n",
    "\n",
    "solution1_data_x.columns = cols"
   ]
  },
  {
   "cell_type": "code",
   "execution_count": null,
   "metadata": {},
   "outputs": [],
   "source": [
    "#Creating Feature Columns\n",
    "feat_cols=[]\n",
    "for cols in solution1_data_x.columns:\n",
    "    column= tf.feature_column.numeric_column(cols)\n",
    "    feat_cols.append(column)\n",
    "    \n",
    "#print(feat_cols)\n",
    "print(type(feat_cols))"
   ]
  },
  {
   "cell_type": "code",
   "execution_count": null,
   "metadata": {},
   "outputs": [],
   "source": [
    "X_solution1_data=pd.DataFrame(scaler_model.transform(solution1_data_x),columns=solution1_data_x.columns,index=solution1_data_x.index)\n",
    "print(X_solution1_data)"
   ]
  },
  {
   "cell_type": "code",
   "execution_count": null,
   "metadata": {},
   "outputs": [],
   "source": [
    "solution1_pred = model.predict(X_solution1_data,batch_size=None)"
   ]
  },
  {
   "cell_type": "code",
   "execution_count": null,
   "metadata": {},
   "outputs": [],
   "source": [
    "print(solution1_pred)"
   ]
  },
  {
   "cell_type": "code",
   "execution_count": null,
   "metadata": {},
   "outputs": [],
   "source": [
    "df_solution1_pred = pd.DataFrame(solution1_pred)\n",
    "df_solution1_pred.to_csv(\"/Users/amber/Documents/DAEN-690/dataset/data_dnn/solution1/solution1_predictive_result.csv\", index=False)"
   ]
  },
  {
   "cell_type": "code",
   "execution_count": null,
   "metadata": {},
   "outputs": [],
   "source": []
  }
 ],
 "metadata": {
  "kernelspec": {
   "display_name": "Python 3 (ipykernel)",
   "language": "python",
   "name": "python3"
  },
  "language_info": {
   "codemirror_mode": {
    "name": "ipython",
    "version": 3
   },
   "file_extension": ".py",
   "mimetype": "text/x-python",
   "name": "python",
   "nbconvert_exporter": "python",
   "pygments_lexer": "ipython3",
   "version": "3.9.12"
  }
 },
 "nbformat": 4,
 "nbformat_minor": 4
}
